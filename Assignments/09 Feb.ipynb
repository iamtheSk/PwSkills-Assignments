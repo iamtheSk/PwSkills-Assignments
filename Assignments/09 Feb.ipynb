{
 "cells": [
  {
   "cell_type": "markdown",
   "id": "01811a48-7d47-4824-8193-12c7e2161e26",
   "metadata": {},
   "source": [
    "### 1.Create a vehicle class with an init method having instance variables as name_of_vehicle, max_speed and average_of_vehicle."
   ]
  },
  {
   "cell_type": "code",
   "execution_count": 36,
   "id": "3e1326fc-eee6-4b65-ac33-069c6ff7654b",
   "metadata": {},
   "outputs": [],
   "source": [
    "class vehicle:\n",
    "    \n",
    "    def __init__(self,name_of_vehicle,max_speed,average_of_vehicle):\n",
    "        self.name_of_vehicle = name_of_vehicle\n",
    "        self.max_speed = max_speed\n",
    "        self.average_of_vehicle = average_of_vehicle\n",
    "       "
   ]
  },
  {
   "cell_type": "code",
   "execution_count": 37,
   "id": "229eaa6c-c2a4-427a-9dca-1880b0d8ebe2",
   "metadata": {},
   "outputs": [],
   "source": [
    "#v1 = vehicle('tesla',200,20)"
   ]
  },
  {
   "cell_type": "code",
   "execution_count": 38,
   "id": "a680ba85-ada3-4a13-8a14-900af36a8a45",
   "metadata": {},
   "outputs": [],
   "source": [
    "#print(v1.name_of_vehicle)"
   ]
  },
  {
   "cell_type": "markdown",
   "id": "080e473a-dea7-4f9a-b0e1-aec66ea138e3",
   "metadata": {},
   "source": [
    "### 2. Create a child class car from the vehicle class created in Que 1, which will inherit the vehicle class.Create a method named seating_capacity which takes capacity as an argument and returns the name of the vehicle and its seating capacity."
   ]
  },
  {
   "cell_type": "code",
   "execution_count": 54,
   "id": "6710c4a2-09e6-4a97-b732-035ee59fde0d",
   "metadata": {},
   "outputs": [],
   "source": [
    "class Car(vehicle):\n",
    "    def seating_capacity(self,seating_capacity): \n",
    "        return \"The vehicle {} has a seating capacity of {}\".format(self.name_of_vehicle,seating_capacity)"
   ]
  },
  {
   "cell_type": "code",
   "execution_count": 57,
   "id": "7a8659c7-7ffa-4476-a8b6-104b3fa33993",
   "metadata": {},
   "outputs": [
    {
     "name": "stdout",
     "output_type": "stream",
     "text": [
      "The vehicle Tesla has a seating capacity of 4\n"
     ]
    }
   ],
   "source": [
    "my_car = Car(\"Tesla\",200,20)\n",
    "print(my_car.seating_capacity(4))"
   ]
  },
  {
   "cell_type": "code",
   "execution_count": null,
   "id": "9e563d77-1db3-48ed-afab-41362fff92e7",
   "metadata": {},
   "outputs": [],
   "source": []
  },
  {
   "cell_type": "markdown",
   "id": "1be0b62d-ab9e-4e9f-a772-73a9cabfd11e",
   "metadata": {},
   "source": [
    "### 3. What is multiple inheritance? Write a python code to demonstrate multiple inheritance."
   ]
  },
  {
   "cell_type": "code",
   "execution_count": 61,
   "id": "4038cfae-6492-412e-a7ad-8424cb6b6835",
   "metadata": {},
   "outputs": [],
   "source": [
    "class Vehicles:\n",
    "    \n",
    "    def __init__(self,wheel,fuel_type):\n",
    "        self.wheel = wheel\n",
    "        self.fuel_type = fuel_type\n",
    "        \n",
    "    def display_details(self):\n",
    "        print(\"This is a vehicle with\", self.wheel, \"wheels and runs on\", self.fuel_type, \"fuel.\")\n",
    "\n",
    "class car(Vehicles):\n",
    "    \n",
    "    def __init__(self,make,model,year,wheel,fuel_type):\n",
    "        Vehicles.__init__(self,wheel,fuel_type)\n",
    "        self.make = make\n",
    "        self.model = model\n",
    "        self.year = year\n",
    "    \n",
    "    \n",
    "    def display_details(self):\n",
    "        Vehicles.display_details(self)\n",
    "        \n",
    "        print(\"It is a\", self.year, self.make, self.model, \".\")\n",
    "\n",
    "\n",
    "class Electriccar(car):\n",
    "    \n",
    "    def __init__(self, make, model, year):\n",
    "         car.__init__(self, make, model, year, 4,'electric')"
   ]
  },
  {
   "cell_type": "code",
   "execution_count": 62,
   "id": "2daa6440-41a0-4a60-a254-cd559db4a0a9",
   "metadata": {},
   "outputs": [
    {
     "name": "stdout",
     "output_type": "stream",
     "text": [
      "This is a vehicle with 4 wheels and runs on electric fuel.\n",
      "It is a 2022 Tesla Model S .\n"
     ]
    }
   ],
   "source": [
    "electric_car = Electriccar(\"Tesla\", \"Model S\", 2022)\n",
    "electric_car.display_details()"
   ]
  },
  {
   "cell_type": "markdown",
   "id": "6e5d3167-fe16-481d-96ad-73781b076a39",
   "metadata": {},
   "source": [
    "* The Vehicle class is defined which has wheels and fuel_type attributes and a display_details method to display the number of wheels and fuel type of a vehicle.\n",
    "* The Car class is defined which inherits from the Vehicle class. The Car class has additional make, model, and year attributes and its own implementation of the display_details method which first calls the Vehicle class's display_details method and then displays additional information about the car's make, model, and year.\n",
    "* The ElectricCar class is defined which inherits from the Car class. The ElectricCar class has its own init method which sets the make, model, and year attributes and passes them to the Car class's init method. It also sets the wheels attribute to 4 and the fuel_type attribute to \"electric\".\n",
    "* instance of the ElectricCar class is created and its display_details method is called to display information about the electric car. The information displayed includes the number of wheels and fuel type inherited from the Vehicle class and the make, model, and year of the car inherited from the Car class."
   ]
  },
  {
   "cell_type": "markdown",
   "id": "4bb4a132-4cbb-48f7-8b03-97ca7d56d9f6",
   "metadata": {},
   "source": [
    "### 4. What are getter and setter in python? Create a class and create a getter and a setter method in this class."
   ]
  },
  {
   "cell_type": "markdown",
   "id": "ced266ae-0e5e-44b9-b74e-a7c34198cf91",
   "metadata": {},
   "source": [
    "A getter method returns the value of the private variable, while a setter method sets a new value for the private variable."
   ]
  },
  {
   "cell_type": "code",
   "execution_count": 64,
   "id": "a58798d5-2571-4c8e-9f8f-fa7b85d1b587",
   "metadata": {},
   "outputs": [
    {
     "name": "stdout",
     "output_type": "stream",
     "text": [
      "Salman\n",
      "Sk\n"
     ]
    }
   ],
   "source": [
    "class Person:\n",
    "    def __init__(self, name):\n",
    "        self._name = name  # private variable define for underscore prefix\n",
    "    \n",
    "    def get_name(self):\n",
    "        return self._name\n",
    "    \n",
    "    def set_name(self, new_name):\n",
    "        self._name = new_name\n",
    "\n",
    "        \n",
    "person = Person(\"Salman\")\n",
    "print(person.get_name())  \n",
    "\n",
    "person.set_name(\"Sk\")\n",
    "print(person.get_name())  "
   ]
  },
  {
   "cell_type": "markdown",
   "id": "bcef3d4b-acb7-4a54-9c20-daa6e0589c5d",
   "metadata": {},
   "source": [
    "### 5.What is method overriding in python? Write a python code to demonstrate method overriding."
   ]
  },
  {
   "cell_type": "markdown",
   "id": "7fc86814-b121-44d7-9eb6-c6ae8f108d2e",
   "metadata": {},
   "source": [
    "Method overriding is a feature of object-oriented programming in which a subclass provides a different implementation of a method that is already defined in its parent class. When a subclass defines a method with the same name and signature as a method in its parent class, the subclass method overrides the parent method."
   ]
  },
  {
   "cell_type": "code",
   "execution_count": 67,
   "id": "897f8c92-6b41-46c1-bac7-c2553cee6732",
   "metadata": {},
   "outputs": [
    {
     "name": "stdout",
     "output_type": "stream",
     "text": [
      "The animal makes a sound.\n",
      "Meow\n",
      "Woof\n"
     ]
    }
   ],
   "source": [
    "class Animal:\n",
    "    def make_sound(self):\n",
    "        print(\"The animal makes a sound.\")\n",
    "\n",
    "class Cat(Animal):\n",
    "    def make_sound(self):\n",
    "        print(\"Meow\")\n",
    "\n",
    "class Dog(Animal):\n",
    "    def make_sound(self):\n",
    "        print(\"Woof\")\n",
    "\n",
    "animal = Animal()\n",
    "animal.make_sound()  # output: \"The animal makes a sound.\"\n",
    "\n",
    "cat = Cat()\n",
    "cat.make_sound()  # output: \"Meow\"\n",
    "\n",
    "dog = Dog()\n",
    "dog.make_sound()  # output: \"Woof\""
   ]
  },
  {
   "cell_type": "code",
   "execution_count": null,
   "id": "0508a281-495e-4080-b38f-b2bbba8a4c5d",
   "metadata": {},
   "outputs": [],
   "source": []
  }
 ],
 "metadata": {
  "kernelspec": {
   "display_name": "Python 3 (ipykernel)",
   "language": "python",
   "name": "python3"
  },
  "language_info": {
   "codemirror_mode": {
    "name": "ipython",
    "version": 3
   },
   "file_extension": ".py",
   "mimetype": "text/x-python",
   "name": "python",
   "nbconvert_exporter": "python",
   "pygments_lexer": "ipython3",
   "version": "3.9.13"
  }
 },
 "nbformat": 4,
 "nbformat_minor": 5
}
