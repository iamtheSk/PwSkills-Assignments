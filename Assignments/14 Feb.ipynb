{
 "cells": [
  {
   "cell_type": "markdown",
   "id": "86dc18ba-c59b-4e11-a2cb-ef750c3b66f2",
   "metadata": {},
   "source": [
    "## MultiThreading"
   ]
  },
  {
   "cell_type": "markdown",
   "id": "965b6bc3-57e9-457c-8c96-c968180dc488",
   "metadata": {},
   "source": [
    "### Q1. what is multithreading in python? why is it used? Name the module used to handle threads in python"
   ]
  },
  {
   "cell_type": "markdown",
   "id": "f8dd26ba-3fc9-4180-a9db-86f4b7da6687",
   "metadata": {},
   "source": [
    "Multithreading is a threading technique in Python programming to run multiple threads concurrently by rapidly switching between threads with a CPU help (called context switching). Besides, it allows sharing of its data space with the main threads inside a process that share information and communication with other threads easier than individual processes. Multithreading aims to perform multiple tasks simultaneously, which increases performance, speed and improves the rendering of the application."
   ]
  },
  {
   "cell_type": "markdown",
   "id": "6d52f0d9-32e4-4be9-a8f2-ef10df198760",
   "metadata": {},
   "source": [
    "### Q2.why threading module used? write the use of the following functions"
   ]
  },
  {
   "cell_type": "markdown",
   "id": "cb603486-6771-4f2a-9712-e296b35b6461",
   "metadata": {},
   "source": [
    "Threading module is used to handle threads in python"
   ]
  },
  {
   "cell_type": "markdown",
   "id": "a2a8d2b8-c1a5-4e10-b54e-771bc1b23060",
   "metadata": {},
   "source": [
    "The use of following function are-\n",
    "\n",
    "1.threading.activeCount() − Returns the number of thread objects that are active.\n",
    "\n",
    "2.threading.currentThread() − Returns the number of thread objects in the caller's thread control.\n",
    "\n",
    "3.threading.enumerate() − Returns a list of all thread objects that are currently active."
   ]
  },
  {
   "cell_type": "markdown",
   "id": "5e0af69d-7327-4357-b157-3664e68779d6",
   "metadata": {},
   "source": [
    "### Q3. Explain the following functions"
   ]
  },
  {
   "cell_type": "markdown",
   "id": "edaec0c9-ec60-4d21-9a04-27210aef0fa4",
   "metadata": {},
   "source": [
    "#### The definition for the Functions\n",
    "\n",
    "1.run() − The run() method is the entry point for a thread.\n",
    "\n",
    "2.start() − The start() method starts a thread by calling the run method.\n",
    "\n",
    "3.join() − The join() waits for threads to terminate.\n",
    "\n",
    "4.isAlive() − The isAlive() method checks whether a thread is still executing."
   ]
  },
  {
   "cell_type": "markdown",
   "id": "9ebe68a3-b836-428d-80f1-46f75a600b29",
   "metadata": {},
   "source": [
    "### Q4. write a python program to create two threads. Thread one must print the list of squares and thread two must print the list of cubes"
   ]
  },
  {
   "cell_type": "code",
   "execution_count": 1,
   "id": "8a6e9437-8eae-4db3-8423-0c75f5cd5f1f",
   "metadata": {},
   "outputs": [],
   "source": [
    "import threading\n",
    "num_list=[1,2,3,4,5,6,7,8,9]\n",
    "def squares(x):\n",
    "    print(x*x)\n",
    "def cubes(x):\n",
    "     print(x**3)\n",
    "\n",
    "thread1=[threading.Thread(target=squares,args=(i,)) for i in num_list]\n",
    "thread2=[threading.Thread(target=cubes,args=(i,)) for i in num_list]"
   ]
  },
  {
   "cell_type": "code",
   "execution_count": 2,
   "id": "d5e23b87-05ab-43a0-afa0-2e5951eaacb2",
   "metadata": {},
   "outputs": [
    {
     "name": "stdout",
     "output_type": "stream",
     "text": [
      "1\n",
      "4\n",
      "9\n",
      "16\n",
      "25\n",
      "36\n",
      "49\n",
      "64\n",
      "81\n"
     ]
    }
   ],
   "source": [
    "for t in thread1:\n",
    "    t.start()"
   ]
  },
  {
   "cell_type": "code",
   "execution_count": 3,
   "id": "07509a32-5d8a-47eb-83d8-4d1abd194dc4",
   "metadata": {},
   "outputs": [
    {
     "name": "stdout",
     "output_type": "stream",
     "text": [
      "1\n",
      "8\n",
      "27\n",
      "64\n",
      "125\n",
      "216\n",
      "343\n",
      "512\n",
      "729\n"
     ]
    }
   ],
   "source": [
    "for t in thread2:\n",
    "    t.start()"
   ]
  },
  {
   "cell_type": "markdown",
   "id": "ddb35ead-c42f-4767-bd6f-e13fd933a2c1",
   "metadata": {},
   "source": [
    "### Q5. State advantages and disadvantages of multithreading."
   ]
  },
  {
   "cell_type": "markdown",
   "id": "68cd3bc3-4d0a-4c56-8504-b6fd7d3bef31",
   "metadata": {},
   "source": [
    "#### Common advantages of multithreading are:\n",
    "\n",
    "1.Enhanced performance by decreased development time\n",
    "\n",
    "2.Simplified and streamlined program coding\n",
    "\n",
    "3.Improvised GUI responsiveness\n",
    "\n",
    "4.Simultaneous and parallelized occurrence of tasks\n",
    "\n",
    "5.Better use of cache storage by utilization of resources\n",
    "\n",
    "6.Decreased cost of maintenance\n",
    "\n",
    "7.Better use of CPU resource\n",
    "\n",
    "#### Common disadvantages of multithreading are:\n",
    "\n",
    "1.Complex debugging and testing processes\n",
    "\n",
    "2.Overhead switching of context\n",
    "\n",
    "3.Increased potential for deadlock occurrence\n",
    "\n",
    "4.Increased difficulty level in writing a program\n",
    "\n",
    "5.Unpredictable results"
   ]
  },
  {
   "cell_type": "markdown",
   "id": "b2a24194-b503-4ec6-b81e-29708ce6e51d",
   "metadata": {},
   "source": [
    "### Q6. Explain deadlocks and race conditions."
   ]
  },
  {
   "cell_type": "markdown",
   "id": "c535b1cb-8cde-4e6c-8e1f-45cb3fddc43e",
   "metadata": {},
   "source": [
    "##### When two processes are waiting for each other directly or indirectly, it is called deadlock.\n",
    "\n",
    "This usually occurs when two processes are waiting for shared resources acquired by others. For example, If thread T1 acquired resource R1 and it also needs resource R2 for it to accomplish its task. But the resource R2 is acquired by thread T2 which is waiting for resource R1(which is acquired by T1). Neither of them will be able to accomplish its task, as they keep waiting for the other resources they need.\n",
    "\n",
    "#### RACE CONDITION\n",
    "\n",
    "When two processes are competing with each other causing data corruption. For example, if two processes are trying to execute the conditions simultaneously, they cause data corruption"
   ]
  }
 ],
 "metadata": {
  "kernelspec": {
   "display_name": "Python 3 (ipykernel)",
   "language": "python",
   "name": "python3"
  },
  "language_info": {
   "codemirror_mode": {
    "name": "ipython",
    "version": 3
   },
   "file_extension": ".py",
   "mimetype": "text/x-python",
   "name": "python",
   "nbconvert_exporter": "python",
   "pygments_lexer": "ipython3",
   "version": "3.9.13"
  }
 },
 "nbformat": 4,
 "nbformat_minor": 5
}
