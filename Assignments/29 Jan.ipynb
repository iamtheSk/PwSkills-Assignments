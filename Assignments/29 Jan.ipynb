{
 "cells": [
  {
   "cell_type": "markdown",
   "id": "c74e3f8b-dfcb-46bc-8cc1-79081b97e5e0",
   "metadata": {},
   "source": [
    "1.Who developed Python Programming Language?\n",
    "\n",
    "Python was devoleped by gudio van rossum in 1991."
   ]
  },
  {
   "cell_type": "markdown",
   "id": "712cab48-c378-4947-b62b-534b95dbd954",
   "metadata": {},
   "source": [
    "2.Which type of Programming does Python support?\n",
    "\n",
    "Python is an interpreted programming language, supporting object-oriented, structured, and functional programming."
   ]
  },
  {
   "cell_type": "markdown",
   "id": "e51a6304-a007-48f1-86a2-29fa84fcccbd",
   "metadata": {},
   "source": [
    "3. Is Python case sensitive when dealing with identifiers?\n",
    "\n",
    "Yes, Python is a case-sensitive language, i.e., it treats uppercase and lowercase characters differently. This applies to identifiers too"
   ]
  },
  {
   "cell_type": "markdown",
   "id": "3c574276-2773-4f0f-8a23-29f9e5420510",
   "metadata": {},
   "source": [
    "4. What is the correct extension of the Python file?\n",
    "\n",
    ".py "
   ]
  },
  {
   "cell_type": "markdown",
   "id": "1ec9ebc6-88ef-43fd-9d71-485c3aea472a",
   "metadata": {},
   "source": [
    "5.Is Python code compiled or interpreted?\n",
    "\n",
    "python is interpreted"
   ]
  },
  {
   "cell_type": "code",
   "execution_count": 1,
   "id": "32340197-0d6a-4036-97d3-b0c54236b022",
   "metadata": {},
   "outputs": [],
   "source": [
    "#6. Name a few blocks of code used to define in Python language?\n",
    "\n",
    "def add(a,b):\n",
    "\treturn a+b"
   ]
  },
  {
   "cell_type": "code",
   "execution_count": 3,
   "id": "6d822100-d15e-49ab-b60f-da3063be39dd",
   "metadata": {},
   "outputs": [],
   "source": [
    "#7. State a character used to give single-line comments in Python?\n",
    "\n",
    "#pwskills"
   ]
  },
  {
   "cell_type": "markdown",
   "id": "6ee7952f-2acc-452f-85c3-7a8cea7e4520",
   "metadata": {},
   "source": [
    "8. Mention functions which can help us to find the version of python that we are currently working on?\n",
    "\n",
    "Using sys. version method.\n",
    "Using python_version() function.\n",
    "Using Python -V command."
   ]
  },
  {
   "cell_type": "code",
   "execution_count": 4,
   "id": "8401ffb7-6b05-4f09-b00e-c07b9db3c724",
   "metadata": {},
   "outputs": [],
   "source": [
    "#9. Python supports the creation of anonymous functions at runtime, using a construct called\n",
    "\n",
    "#lambda"
   ]
  },
  {
   "cell_type": "code",
   "execution_count": 5,
   "id": "f0e7c290-6059-4aee-a4e0-c381f52658e7",
   "metadata": {},
   "outputs": [],
   "source": [
    "#10. What does pip stand for python?\n",
    "\n",
    "#Preferred Installer Program"
   ]
  },
  {
   "cell_type": "code",
   "execution_count": null,
   "id": "8d4ef9f5-4797-4136-9e54-8645ceb33dd4",
   "metadata": {},
   "outputs": [],
   "source": [
    "#11. Mention a few built-in functions in python?\n",
    "\n",
    "# str() , len() , range(), max(), min() , tuple() , type()"
   ]
  },
  {
   "cell_type": "code",
   "execution_count": null,
   "id": "93548f73-791f-4628-94f2-1f7517d023aa",
   "metadata": {},
   "outputs": [],
   "source": [
    "#12. What is the maximum possible length of an identifier in Python?\n",
    "\n",
    "#In Python, the highest possible length of an identifier is 79 characters. Python is a high level programming language."
   ]
  },
  {
   "cell_type": "code",
   "execution_count": null,
   "id": "2094065c-5600-4a4f-9363-8931787d7a63",
   "metadata": {},
   "outputs": [],
   "source": [
    "#13. What are the benefits of using Python?\n",
    "\n",
    "#Over 125,000 third-party Python libraries exist that enable you to use Python for machine learning, web processing, and even biology. Also, its data-focused libraries like pandas, NumPy, and matplotlib make it very capable of processing, manipulating, and visualizing data "
   ]
  },
  {
   "cell_type": "code",
   "execution_count": null,
   "id": "0bb0cd27-43bf-4dc2-a911-5a16acad987e",
   "metadata": {},
   "outputs": [],
   "source": [
    "#14. How is memory managed in Python?\n",
    "\n",
    "#Memory management in Python involves a private heap containing all Python objects and data structures"
   ]
  },
  {
   "cell_type": "markdown",
   "id": "9380d70e-86b0-42d2-988f-a64be31dc13a",
   "metadata": {},
   "source": [
    "#15. How to install Python on Windows and set path variables? \n",
    "\n",
    "Install python from this link https://www.python.org/downloads/\n",
    "After this, install it on your PC. Look for the location where PYTHON has been installed on your PC using tge following command on your command prompt: cmd python.\n",
    "Then go to advanced system settings and add new variable and name it as PYTHON_NAME and paste the copied path.\n",
    "Then look for the path variable, select it's value and select edit\n",
    "Add a semicolon towards the end of the value if it's not present and then type %PYTHON_HOME% "
   ]
  },
  {
   "cell_type": "code",
   "execution_count": null,
   "id": "265918c1-a4f2-469b-90ba-ad687fbb3cb2",
   "metadata": {},
   "outputs": [],
   "source": [
    "#16. Is indentation required in python?\n",
    "\n",
    "#Indentation refers to the spaces at the beginning of a code line. Where in other programming languages the indentation in code is for readability only, the indentation in Python is very important. "
   ]
  }
 ],
 "metadata": {
  "kernelspec": {
   "display_name": "Python 3 (ipykernel)",
   "language": "python",
   "name": "python3"
  },
  "language_info": {
   "codemirror_mode": {
    "name": "ipython",
    "version": 3
   },
   "file_extension": ".py",
   "mimetype": "text/x-python",
   "name": "python",
   "nbconvert_exporter": "python",
   "pygments_lexer": "ipython3",
   "version": "3.9.13"
  }
 },
 "nbformat": 4,
 "nbformat_minor": 5
}
