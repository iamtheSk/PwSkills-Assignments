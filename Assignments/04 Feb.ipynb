{
 "cells": [
  {
   "cell_type": "markdown",
   "id": "cc108c1f-5953-47f2-98d0-4c13989cb8f4",
   "metadata": {},
   "source": [
    "### 1.Create a python program to sort the given list of tuples based on integer value using a lambda function.\n",
    "### [('Sachin Tendulkar', 34357), ('Ricky Ponting', 27483), ('Jack Kallis', 25534), ('Virat Kohli', 24936)]"
   ]
  },
  {
   "cell_type": "code",
   "execution_count": 48,
   "id": "07abc7d1-a0b1-434f-8aab-1b80c5c86af2",
   "metadata": {},
   "outputs": [
    {
     "data": {
      "text/plain": [
       "[('Virat Kohli', 24936),\n",
       " ('Jack Kallis', 25534),\n",
       " ('Ricky Ponting', 27483),\n",
       " ('Sachin Tendulkar', 34357)]"
      ]
     },
     "execution_count": 48,
     "metadata": {},
     "output_type": "execute_result"
    }
   ],
   "source": [
    "list1 = [('Sachin Tendulkar', 34357), ('Ricky Ponting', 27483), ('Jack Kallis', 25534), ('Virat Kohli', 24936)]\n",
    "\n",
    "sort_list = sorted(list1,key=lambda x:x[1])\n",
    "sort_list"
   ]
  },
  {
   "cell_type": "markdown",
   "id": "a7484e48-1848-41ef-8da9-85f64e5a152b",
   "metadata": {},
   "source": [
    "### 2.Write a Python Program to find the squares of all the numbers in the given list of integers using lambda and map functions.\n",
    "### [1, 2, 3, 4, 5, 6, 7, 8, 9, 10]"
   ]
  },
  {
   "cell_type": "code",
   "execution_count": 49,
   "id": "446ccbbd-12b8-4076-a8a2-9241550902c6",
   "metadata": {},
   "outputs": [
    {
     "data": {
      "text/plain": [
       "<map at 0x1487fe1c130>"
      ]
     },
     "execution_count": 49,
     "metadata": {},
     "output_type": "execute_result"
    }
   ],
   "source": [
    "list2 = [1, 2, 3, 4, 5, 6, 7, 8, 9, 10]\n",
    "map(lambda x : x**2,list2)\n"
   ]
  },
  {
   "cell_type": "code",
   "execution_count": 50,
   "id": "a5809444-ab44-4789-91a5-4279e2f0b3e9",
   "metadata": {},
   "outputs": [
    {
     "data": {
      "text/plain": [
       "[1, 4, 9, 16, 25, 36, 49, 64, 81, 100]"
      ]
     },
     "execution_count": 50,
     "metadata": {},
     "output_type": "execute_result"
    }
   ],
   "source": [
    "list(map(lambda x : x**2,list2))"
   ]
  },
  {
   "cell_type": "markdown",
   "id": "d2c708f6-503e-412e-b2e4-c3b5223a3d03",
   "metadata": {},
   "source": [
    "### 3.Write a python program to convert the given list of integers into a tuple of strings. Use map and lambda functions\n",
    "### Given String: [1, 2, 3, 4, 5, 6, 7, 8, 9, 10]\n",
    "### Expected output: ('1', '2', '3', '4', '5', '6', '7', '8', '9', '10')"
   ]
  },
  {
   "cell_type": "code",
   "execution_count": 51,
   "id": "80eb0271-049a-4b7f-9cec-bde54aa1f314",
   "metadata": {},
   "outputs": [
    {
     "data": {
      "text/plain": [
       "<map at 0x1487fe1c820>"
      ]
     },
     "execution_count": 51,
     "metadata": {},
     "output_type": "execute_result"
    }
   ],
   "source": [
    "list3 = [1, 2, 3, 4, 5, 6, 7, 8, 9, 10]\n",
    "map(lambda  x : str(x),list3)"
   ]
  },
  {
   "cell_type": "code",
   "execution_count": 52,
   "id": "6fbd4d16-6281-432f-b63d-ce031f8c6ea9",
   "metadata": {},
   "outputs": [
    {
     "data": {
      "text/plain": [
       "('1', '2', '3', '4', '5', '6', '7', '8', '9', '10')"
      ]
     },
     "execution_count": 52,
     "metadata": {},
     "output_type": "execute_result"
    }
   ],
   "source": [
    "tuple(map(lambda  x : str(x),list3))"
   ]
  },
  {
   "cell_type": "markdown",
   "id": "516ecb86-6ef0-4815-9e7b-e9c6f0de9338",
   "metadata": {},
   "source": [
    "### 4.Write a python program using reduce function to compute the product of a list containing numbers from 1 to 25."
   ]
  },
  {
   "cell_type": "code",
   "execution_count": 53,
   "id": "d45700c6-9071-42a0-93c6-f7d485e9a1bb",
   "metadata": {},
   "outputs": [
    {
     "name": "stdout",
     "output_type": "stream",
     "text": [
      "1 2 3 4 5 6 7 8 9 10 11 12 13 14 15 16 17 18 19 20 21 22 23 24 25 "
     ]
    },
    {
     "data": {
      "text/plain": [
       "15511210043330985984000000"
      ]
     },
     "execution_count": 53,
     "metadata": {},
     "output_type": "execute_result"
    }
   ],
   "source": [
    "list4 = []\n",
    "\n",
    "for i in range(1,26):\n",
    "    list4.append(i)\n",
    "    print(i,end=\" \")\n",
    "\n",
    "from functools import reduce\n",
    "reduce(lambda x,y: x*y,list4)"
   ]
  },
  {
   "cell_type": "markdown",
   "id": "0c5cf627-caeb-4f1d-9659-492b68514aed",
   "metadata": {},
   "source": [
    "### 5.Write a python program to filter the numbers in a given list that are divisible by 2 and 3 using the filter function.\n",
    "### [2, 3, 6, 9, 27, 60, 90, 120, 55, 46]"
   ]
  },
  {
   "cell_type": "code",
   "execution_count": 54,
   "id": "c895d6e4-1ebf-4668-9c77-158708a06fea",
   "metadata": {},
   "outputs": [
    {
     "data": {
      "text/plain": [
       "[6, 60, 90, 120]"
      ]
     },
     "execution_count": 54,
     "metadata": {},
     "output_type": "execute_result"
    }
   ],
   "source": [
    "list5 = [2, 3, 6, 9, 27, 60, 90, 120, 55, 46]\n",
    "\n",
    "list(filter(lambda x:x%2==0 and x%3==0,list5))"
   ]
  },
  {
   "cell_type": "markdown",
   "id": "bfa09948-66eb-41bd-8b22-d83969d72bdf",
   "metadata": {
    "tags": []
   },
   "source": [
    "### 6.Write a python program to find palindromes in the given list of strings using lambda and filter function.\n",
    "### ['python', 'php', 'aba', 'radar', 'level']"
   ]
  },
  {
   "cell_type": "code",
   "execution_count": 55,
   "id": "db41d026-495d-4129-97e1-caae176348fe",
   "metadata": {},
   "outputs": [
    {
     "data": {
      "text/plain": [
       "['php', 'aba', 'radar', 'level']"
      ]
     },
     "execution_count": 55,
     "metadata": {},
     "output_type": "execute_result"
    }
   ],
   "source": [
    "list6 = ['python', 'php', 'aba', 'radar', 'level']\n",
    "\n",
    "list(filter(lambda x:x==x[::-1],list6))"
   ]
  },
  {
   "cell_type": "code",
   "execution_count": null,
   "id": "a9ad50d3-89d6-433a-a7c3-1fe586ded95d",
   "metadata": {},
   "outputs": [],
   "source": []
  },
  {
   "cell_type": "code",
   "execution_count": null,
   "id": "95ccfe05-1cbe-4566-8f83-5cfaa8ed5aa5",
   "metadata": {},
   "outputs": [],
   "source": []
  }
 ],
 "metadata": {
  "kernelspec": {
   "display_name": "Python 3 (ipykernel)",
   "language": "python",
   "name": "python3"
  },
  "language_info": {
   "codemirror_mode": {
    "name": "ipython",
    "version": 3
   },
   "file_extension": ".py",
   "mimetype": "text/x-python",
   "name": "python",
   "nbconvert_exporter": "python",
   "pygments_lexer": "ipython3",
   "version": "3.9.13"
  }
 },
 "nbformat": 4,
 "nbformat_minor": 5
}
