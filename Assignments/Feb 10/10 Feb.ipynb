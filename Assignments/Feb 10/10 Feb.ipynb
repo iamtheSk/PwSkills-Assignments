{
 "cells": [
  {
   "cell_type": "markdown",
   "id": "9d1e73ea-67b5-4a1f-bcbe-6412417ceba7",
   "metadata": {},
   "source": [
    "#### 1. Which function is used to open a file? What are the different modes of opening a file? Explain each mode of file opening."
   ]
  },
  {
   "cell_type": "code",
   "execution_count": 5,
   "id": "d3642998-c100-4e2b-b2af-02c318a5a635",
   "metadata": {},
   "outputs": [],
   "source": [
    "file = open('test.txt')"
   ]
  },
  {
   "cell_type": "markdown",
   "id": "b4da7a4e-6427-41f1-8169-cf50f7705a55",
   "metadata": {},
   "source": [
    "Different modes of opening a file in python are-\n",
    "\n",
    "1.Read Only ('r') : Open text file for reading\n",
    "\n",
    "2.Read and Write ('r+'): Open the file for reading and writing\n",
    "\n",
    "3.Write Only ('w') : Open the file for writing\n",
    "\n",
    "4.Write and Read ('w+') : Open the file for reading and writing\n",
    "\n",
    "5.Append Only ('a'): Open the file for writing and does not truncate it like write mode\n",
    "\n"
   ]
  },
  {
   "cell_type": "code",
   "execution_count": 19,
   "id": "7fcff772-e0e7-4f20-90ed-6d792792e88f",
   "metadata": {},
   "outputs": [],
   "source": [
    "# WRITE MODE\n",
    "\n",
    "new=open(\"new.txt\",\"w\")"
   ]
  },
  {
   "cell_type": "code",
   "execution_count": 20,
   "id": "cbfe6d8a-325a-4f56-872d-b640b73d8388",
   "metadata": {},
   "outputs": [
    {
     "data": {
      "text/plain": [
       "17"
      ]
     },
     "execution_count": 20,
     "metadata": {},
     "output_type": "execute_result"
    }
   ],
   "source": [
    "new.write(\"My name is Salman\")"
   ]
  },
  {
   "cell_type": "code",
   "execution_count": 21,
   "id": "b90cd272-fe87-46bf-8fc6-ca804e304112",
   "metadata": {},
   "outputs": [
    {
     "data": {
      "text/plain": [
       "'My name is Salman'"
      ]
     },
     "execution_count": 21,
     "metadata": {},
     "output_type": "execute_result"
    }
   ],
   "source": [
    "## READ MODE\n",
    "new=open(\"new.txt\",\"r\")\n",
    "new.read()"
   ]
  },
  {
   "cell_type": "code",
   "execution_count": 22,
   "id": "0879431b-ce3a-4fcc-a67f-8cc1c483327e",
   "metadata": {},
   "outputs": [
    {
     "data": {
      "text/plain": [
       "42"
      ]
     },
     "execution_count": 22,
     "metadata": {},
     "output_type": "execute_result"
    }
   ],
   "source": [
    "## APPEND MODE\n",
    "\n",
    "new=open(\"new.txt\",\"a\")\n",
    "new.write(\" I am pursuing data science from pw skills\")"
   ]
  },
  {
   "cell_type": "code",
   "execution_count": 23,
   "id": "7d48f8ac-0a05-41ae-9f49-b3589ddf48f4",
   "metadata": {},
   "outputs": [],
   "source": [
    "new.close()"
   ]
  },
  {
   "cell_type": "code",
   "execution_count": 24,
   "id": "081eda6c-47fe-456b-a5aa-ec6d30c63235",
   "metadata": {},
   "outputs": [
    {
     "name": "stdout",
     "output_type": "stream",
     "text": [
      "My name is Salman I am pursuing data science from pw skills\n"
     ]
    }
   ],
   "source": [
    "## Read and Write\n",
    "\n",
    "with open(\"new.txt\",\"r+\") as new:\n",
    "    print(new.read())"
   ]
  },
  {
   "cell_type": "code",
   "execution_count": 25,
   "id": "66f1f710-7834-4725-b8d4-817709de52c2",
   "metadata": {},
   "outputs": [],
   "source": [
    "## Write and Read\n",
    "\n",
    "with open(\"new.txt\",\"w+\") as new:\n",
    "    new.write(\"This is a assignment for feb 10\")\n"
   ]
  },
  {
   "cell_type": "markdown",
   "id": "9e20263b-54aa-4130-b442-dd84b2e19ebb",
   "metadata": {},
   "source": [
    "### 2. Why close() function is used? Why is it important to close a file?"
   ]
  },
  {
   "cell_type": "markdown",
   "id": "be69e5f5-fa98-4268-b5e3-f903bb5282d8",
   "metadata": {},
   "source": [
    "It is important to close opened files. Because, when you open a file, the file is locked for writing(if opened in write mode). Thus you cannot access that file outside your program while it is open in python. Moreover you cannot see the changes you made to the file in your program until you close it. The close function actually saves the changes to the file and releases the lock."
   ]
  },
  {
   "cell_type": "markdown",
   "id": "7faedb65-7132-4be6-85f7-51f7b234ff1e",
   "metadata": {},
   "source": [
    "### 3. Write a python program to create a text file. Write ‘I want to become a Data Scientist’ in that file. Then close the file. Open this file and read the content of the file."
   ]
  },
  {
   "cell_type": "code",
   "execution_count": 75,
   "id": "a91e9fdf-554b-49d0-9f82-f72316706e40",
   "metadata": {},
   "outputs": [
    {
     "data": {
      "text/plain": [
       "33"
      ]
     },
     "execution_count": 75,
     "metadata": {},
     "output_type": "execute_result"
    }
   ],
   "source": [
    "file = open(\"Feb 10/text.txt\",\"w\")\n",
    "file.write(\"I want to become a Data Scientist\")"
   ]
  },
  {
   "cell_type": "code",
   "execution_count": 76,
   "id": "397196ed-c413-4afb-b251-7ad381148b98",
   "metadata": {},
   "outputs": [],
   "source": [
    "read_f=open(\"Feb 10/text.txt\",\"r\")\n"
   ]
  },
  {
   "cell_type": "code",
   "execution_count": 77,
   "id": "6c24dfe7-062b-4dcc-8632-f8d8136019a2",
   "metadata": {},
   "outputs": [],
   "source": [
    "file.close()"
   ]
  },
  {
   "cell_type": "code",
   "execution_count": 78,
   "id": "8a24c532-1633-4bbc-8602-b4ebdc1b15ed",
   "metadata": {},
   "outputs": [
    {
     "data": {
      "text/plain": [
       "'I want to become a Data Scientist'"
      ]
     },
     "execution_count": 78,
     "metadata": {},
     "output_type": "execute_result"
    }
   ],
   "source": [
    "read_f.read()"
   ]
  },
  {
   "cell_type": "code",
   "execution_count": 79,
   "id": "882c013a-30fa-45fd-b82d-3783a59800a3",
   "metadata": {},
   "outputs": [],
   "source": [
    "read_f.close()"
   ]
  },
  {
   "cell_type": "code",
   "execution_count": null,
   "id": "fdf7b6b9-512a-4e5d-9e61-22a5ea0356fb",
   "metadata": {},
   "outputs": [],
   "source": []
  },
  {
   "cell_type": "markdown",
   "id": "e941662a-9987-4006-8b6f-d858c1c0608a",
   "metadata": {},
   "source": [
    "### 4. Explain the following with python code: read(), readline() and readlines()."
   ]
  },
  {
   "cell_type": "code",
   "execution_count": 83,
   "id": "d56ac923-beab-42a9-9e73-66c6d02594ef",
   "metadata": {},
   "outputs": [
    {
     "name": "stdout",
     "output_type": "stream",
     "text": [
      "I want to become a Data Scientist\n"
     ]
    }
   ],
   "source": [
    "# READ METHOD\n",
    "\n",
    "a=open(\"Feb 10/text.txt\",\"r\")\n",
    "print(a.read()) #Returns the read bytes in form of a string. Reads n bytes, if no n specified, reads the entire file."
   ]
  },
  {
   "cell_type": "code",
   "execution_count": 85,
   "id": "3188089d-8e98-423b-b29a-a09a66838be3",
   "metadata": {},
   "outputs": [
    {
     "name": "stdout",
     "output_type": "stream",
     "text": [
      "I want to become a Data Scientist\n"
     ]
    }
   ],
   "source": [
    "# Readline Method\n",
    "\n",
    "b=open(\"Feb 10/text.txt\",\"r\")\n",
    "print(b.readline())#only prints the first line"
   ]
  },
  {
   "cell_type": "code",
   "execution_count": 84,
   "id": "e11b2c0e-84b5-46fb-883f-e973c537ed8b",
   "metadata": {},
   "outputs": [
    {
     "name": "stdout",
     "output_type": "stream",
     "text": [
      "['I want to become a Data Scientist']\n"
     ]
    }
   ],
   "source": [
    "# Readlines method\n",
    "\n",
    "b=open(\"Feb 10/text.txt\",\"r\")\n",
    "print(b.readlines()) #all the lines in a file in the format of a list where each element is a line in the file."
   ]
  },
  {
   "cell_type": "code",
   "execution_count": null,
   "id": "53c820f5-5f2d-4902-8d94-baf018297d91",
   "metadata": {},
   "outputs": [],
   "source": []
  },
  {
   "cell_type": "markdown",
   "id": "2f357404-3993-4aa8-ac1f-fcbb8d67787d",
   "metadata": {},
   "source": [
    "### 5. Explain why with statement is used with open(). What is the advantage of using with statement and open() together?"
   ]
  },
  {
   "cell_type": "markdown",
   "id": "cd132600-4867-4116-bc99-78b7ecb2de2c",
   "metadata": {},
   "source": [
    "The with statement works with the open() function to open a file. Unlike open() where you have to close the file with the close() method"
   ]
  },
  {
   "cell_type": "code",
   "execution_count": 99,
   "id": "926159f7-f0e2-496f-8a63-5d1abf28c224",
   "metadata": {},
   "outputs": [],
   "source": [
    "with open(\"Feb 10/test.txt\",\"w\") as a:\n",
    "    pass"
   ]
  },
  {
   "cell_type": "markdown",
   "id": "56017e41-c566-4a41-a4da-c7109604532a",
   "metadata": {},
   "source": [
    "### 6. Explain the write() and writelines() functions. Give a suitable example."
   ]
  },
  {
   "cell_type": "markdown",
   "id": "1db94ab8-1ab7-49df-b28d-0e082d84584a",
   "metadata": {},
   "source": [
    " write() function will write the content in the file without adding any extra characters."
   ]
  },
  {
   "cell_type": "code",
   "execution_count": null,
   "id": "51c0b3d0-c2b4-40c1-a936-48d1006ab6e4",
   "metadata": {},
   "outputs": [
    {
     "data": {
      "text/plain": [
       "13"
      ]
     },
     "execution_count": 100,
     "metadata": {},
     "output_type": "execute_result"
    }
   ],
   "source": [
    "a=open(\"Feb 10/test.txt\",\"w\")\n",
    "a.write(\"My name is sk\")"
   ]
  },
  {
   "cell_type": "code",
   "execution_count": 103,
   "id": "7ac1e150-d643-43ed-a9d6-f2cfa5a1b2cb",
   "metadata": {},
   "outputs": [],
   "source": [
    "a.close()"
   ]
  },
  {
   "cell_type": "markdown",
   "id": "ac889d57-dda0-49a5-9c5e-336ed5707226",
   "metadata": {},
   "source": [
    "writelines():This function writes the content of a list to a file."
   ]
  },
  {
   "cell_type": "code",
   "execution_count": 115,
   "id": "f8d06793-6b49-4b50-83fa-deee9e47e250",
   "metadata": {},
   "outputs": [],
   "source": [
    "b=open(\"Feb 10/def.txt\",\"w\")\n",
    "b.writelines([\"sk \",\" pwskills \",\" data_science\"])"
   ]
  },
  {
   "cell_type": "code",
   "execution_count": 114,
   "id": "87b1141e-c093-4092-9381-3acac0880593",
   "metadata": {},
   "outputs": [],
   "source": []
  },
  {
   "cell_type": "code",
   "execution_count": 122,
   "id": "02f6e95f-f13c-4241-abd7-6efd636baaef",
   "metadata": {},
   "outputs": [],
   "source": [
    "b.close()"
   ]
  },
  {
   "cell_type": "code",
   "execution_count": 121,
   "id": "75eb395d-d97b-4638-aed8-07183ad81e6f",
   "metadata": {},
   "outputs": [
    {
     "data": {
      "text/plain": [
       "'skpwskillsdata_science'"
      ]
     },
     "execution_count": 121,
     "metadata": {},
     "output_type": "execute_result"
    }
   ],
   "source": [
    "c=open(\"Feb 10/def.txt\",\"r\")\n",
    "c.read()"
   ]
  },
  {
   "cell_type": "code",
   "execution_count": 123,
   "id": "b582e266-81b6-402d-8589-484233ebd24b",
   "metadata": {},
   "outputs": [],
   "source": [
    "c.close()"
   ]
  },
  {
   "cell_type": "code",
   "execution_count": null,
   "id": "4f5f34a5-0486-4bb4-8aa8-04df05ef5edb",
   "metadata": {},
   "outputs": [],
   "source": []
  }
 ],
 "metadata": {
  "kernelspec": {
   "display_name": "Python 3 (ipykernel)",
   "language": "python",
   "name": "python3"
  },
  "language_info": {
   "codemirror_mode": {
    "name": "ipython",
    "version": 3
   },
   "file_extension": ".py",
   "mimetype": "text/x-python",
   "name": "python",
   "nbconvert_exporter": "python",
   "pygments_lexer": "ipython3",
   "version": "3.9.13"
  }
 },
 "nbformat": 4,
 "nbformat_minor": 5
}
