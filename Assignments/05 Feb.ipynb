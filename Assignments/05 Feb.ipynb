{
 "cells": [
  {
   "cell_type": "markdown",
   "id": "5c9e32f7-d35d-418e-8b96-1c8628d41d21",
   "metadata": {},
   "source": [
    "### 1. Explain Class and Object with respect to Object-Oriented Programming. Give a suitable example."
   ]
  },
  {
   "cell_type": "code",
   "execution_count": 6,
   "id": "05c02b6a-7aeb-4904-a7ca-07a0c2acb372",
   "metadata": {},
   "outputs": [],
   "source": [
    "#creating a class\n",
    "\n",
    "class car:\n",
    "    def __init__(self,model,price,mileage):\n",
    "        self.model = model\n",
    "        self.price = price\n",
    "        self.mileage = mileage"
   ]
  },
  {
   "cell_type": "code",
   "execution_count": 7,
   "id": "2829e360-4d81-48c3-a795-291c57d716a3",
   "metadata": {},
   "outputs": [],
   "source": [
    "#creating a object\n",
    "car1 = car(\"Skoda superb\",\"50L\",10)"
   ]
  },
  {
   "cell_type": "code",
   "execution_count": 8,
   "id": "af381d6f-da04-4ac8-9339-380c90f19c97",
   "metadata": {},
   "outputs": [
    {
     "data": {
      "text/plain": [
       "('Skoda superb', '50L', 10)"
      ]
     },
     "execution_count": 8,
     "metadata": {},
     "output_type": "execute_result"
    }
   ],
   "source": [
    "#calling by object name + constructor attributes\n",
    "(car1.model,car1.price,car1.mileage)"
   ]
  },
  {
   "cell_type": "markdown",
   "id": "d0dd4578-d8fe-4dd1-89b0-4ff0dcdade3d",
   "metadata": {},
   "source": [
    "### 2. Name the four pillars of OOPs."
   ]
  },
  {
   "cell_type": "markdown",
   "id": "ba1ee12b-69a2-4ea0-b1b4-34d878badb84",
   "metadata": {},
   "source": [
    "Four pillar's of OOP's is Inheritance,Polymorphism,Encapsulation and Abstraction"
   ]
  },
  {
   "cell_type": "markdown",
   "id": "20a4d7b8-e656-4d00-afc2-fcce055f143b",
   "metadata": {},
   "source": [
    "### 3.Explain why the __init__() function is used. Give a suitable example."
   ]
  },
  {
   "cell_type": "markdown",
   "id": "3ed19d8e-4d37-4ac9-8162-b4f3468faa64",
   "metadata": {},
   "source": [
    "__init__ is one of the reserved methods in Python. In object oriented programming, it is known as a constructor.The __init__ method can be called when an object is created from the class, and access is required to initialize the attributes of the class."
   ]
  },
  {
   "cell_type": "code",
   "execution_count": 9,
   "id": "bef24be6-2a00-4141-915c-f47d142a3f31",
   "metadata": {},
   "outputs": [],
   "source": [
    "#create a class\n",
    "class details:\n",
    "    def __init__(self,name,gender): #Constructor\n",
    "        self.name = name\n",
    "        self.gender= gender \n",
    "        \n",
    "p1 = details(\"SK\",\"MALE\")"
   ]
  },
  {
   "cell_type": "code",
   "execution_count": 10,
   "id": "37548aca-2968-4708-a37e-b6638ac37398",
   "metadata": {},
   "outputs": [
    {
     "name": "stdout",
     "output_type": "stream",
     "text": [
      "SK MALE\n"
     ]
    }
   ],
   "source": [
    "#printing by object name with constructor attribute\n",
    "print(p1.name,p1.gender)"
   ]
  },
  {
   "cell_type": "markdown",
   "id": "eb0dfd05-fb14-4c36-92af-ed2d129692c5",
   "metadata": {},
   "source": [
    "### 4.Why self is used in OOPs?"
   ]
  },
  {
   "cell_type": "markdown",
   "id": "5594a7cd-74ad-4279-a8ea-1fd4711e2f75",
   "metadata": {},
   "source": [
    "The self is used to represent the instance of the class. With this keyword, you can access the attributes and methods of the class in python. It binds the attributes with the given arguments. The reason why we use self is that Python does not use the '@' syntax to refer to instance attributes.\n",
    "Python decided to do methods in a way that makes the instance to which the method belongs be passed automatically, but not received automatically: the first parameter of methods is the instance the method is called on."
   ]
  },
  {
   "cell_type": "markdown",
   "id": "f3b51ba9-4900-4405-bcb3-5d6a3dc95ea0",
   "metadata": {},
   "source": [
    "### 5.What is inheritance? Give an example for each type of inheritance."
   ]
  },
  {
   "cell_type": "markdown",
   "id": "ef6bf0fa-1568-4cc7-9d5f-35b713372b49",
   "metadata": {},
   "source": [
    "#### Inheritance is defined as the mechanism of inheriting the properties of the base class to the child class.\n",
    "#### Types of Inheritance depend upon the number of child and parent classes involved. There are four types of inheritance in Python:\n",
    "### Single Inheritance:\n",
    "Single inheritance enables a derived class to inherit properties from a single parent class, thus enabling code reusability and the addition of new features to existing code."
   ]
  },
  {
   "cell_type": "code",
   "execution_count": 11,
   "id": "5fe860d6-120a-49ea-af6b-dbe199f47d63",
   "metadata": {},
   "outputs": [
    {
     "name": "stdout",
     "output_type": "stream",
     "text": [
      "This function is in parent class.\n",
      "This function is in child class.\n"
     ]
    }
   ],
   "source": [
    "class Parent:\n",
    "    def func1(self):\n",
    "        print(\"This function is in parent class.\")\n",
    "\n",
    "\n",
    "class Child(Parent):\n",
    "    def func2(self):\n",
    "        print(\"This function is in child class.\")\n",
    " \n",
    "object = Child()\n",
    "object.func1()\n",
    "object.func2()"
   ]
  },
  {
   "cell_type": "markdown",
   "id": "e02790bb-fac6-4933-a69e-5ec516330230",
   "metadata": {},
   "source": [
    "#### Multiple Inheritance:\n",
    "When a class can be derived from more than one base class this type of inheritance is called multiple inheritances. In multiple inheritances, all the features of the base classes are inherited into the derived class."
   ]
  },
  {
   "cell_type": "code",
   "execution_count": 12,
   "id": "f057be31-3fa0-46fb-9fc0-96b0370f787d",
   "metadata": {},
   "outputs": [
    {
     "name": "stdout",
     "output_type": "stream",
     "text": [
      "Father : RAM\n",
      "Mother : SITA\n"
     ]
    }
   ],
   "source": [
    "class Mother:\n",
    "    mothername = \"\"\n",
    " \n",
    "    def mother(self):\n",
    "        print(self.mothername)\n",
    " \n",
    " \n",
    "class Father:\n",
    "    fathername = \"\"\n",
    " \n",
    "    def father(self):\n",
    "        print(self.fathername)\n",
    " \n",
    " \n",
    "class Son(Mother, Father):\n",
    "    def parents(self):\n",
    "        print(\"Father :\", self.fathername)\n",
    "        print(\"Mother :\", self.mothername)\n",
    " \n",
    " \n",
    "s1 = Son()\n",
    "s1.fathername = \"RAM\"\n",
    "s1.mothername = \"SITA\"\n",
    "s1.parents()"
   ]
  },
  {
   "cell_type": "markdown",
   "id": "6f100f23-c1fe-4b1e-84a3-12dab64a7232",
   "metadata": {},
   "source": [
    "#### Multilevel Inheritance :\n",
    "In multilevel inheritance, features of the base class and the derived class are further inherited into the new derived class. This is similar to a relationship representing a child and a grandfather."
   ]
  },
  {
   "cell_type": "code",
   "execution_count": 13,
   "id": "917b8010-1aff-46b2-98f7-45a54e2922dc",
   "metadata": {},
   "outputs": [
    {
     "name": "stdout",
     "output_type": "stream",
     "text": [
      "ajith\n",
      "Grandfather name : ajith\n",
      "Father name : vijay\n",
      "Son name : Surya\n"
     ]
    }
   ],
   "source": [
    "class Grandfather:\n",
    "\n",
    "\tdef __init__(self, grandfathername):\n",
    "\t\tself.grandfathername = grandfathername\n",
    "\n",
    "\n",
    "class Father(Grandfather):\n",
    "\tdef __init__(self, fathername, grandfathername):\n",
    "\t\tself.fathername = fathername\n",
    "        \n",
    "\t\tGrandfather.__init__(self, grandfathername)\n",
    "\n",
    "\n",
    "class Son(Father):\n",
    "\tdef __init__(self, son_name, fathername, grandfathername):\n",
    "\t\tself.son_name = son_name\n",
    "        \n",
    "\t\tFather.__init__(self, fathername, grandfathername)\n",
    "\n",
    "\tdef print_name(self):\n",
    "\t\tprint('Grandfather name :', self.grandfathername)\n",
    "\t\tprint(\"Father name :\", self.fathername)\n",
    "\t\tprint(\"Son name :\", self.son_name)\n",
    "\n",
    "        \n",
    "s1 = Son('Surya', 'vijay', 'ajith')\n",
    "print(s1.grandfathername)\n",
    "s1.print_name()"
   ]
  },
  {
   "cell_type": "markdown",
   "id": "c7830456-f26f-4af9-9dbf-2cc63f56bd5a",
   "metadata": {},
   "source": [
    "#### Hierarchical Inheritance:\n",
    "When more than one derived class are created from a single base this type of inheritance is called hierarchical inheritance. In this program, we have a parent (base) class and two child (derived) classes."
   ]
  },
  {
   "cell_type": "code",
   "execution_count": 14,
   "id": "6ec6abba-6dea-41fd-826d-6f9ffc50535b",
   "metadata": {},
   "outputs": [
    {
     "name": "stdout",
     "output_type": "stream",
     "text": [
      "This function is in parent class.\n",
      "This function is in child 1.\n",
      "This function is in parent class.\n",
      "This function is in child 2.\n"
     ]
    }
   ],
   "source": [
    "class Parent:\n",
    "\tdef func1(self):\n",
    "\t\tprint(\"This function is in parent class.\")\n",
    "        \n",
    "\n",
    "class Child1(Parent):\n",
    "\tdef func2(self):\n",
    "\t\tprint(\"This function is in child 1.\")\n",
    "\n",
    "\n",
    "class Child2(Parent):\n",
    "\tdef func3(self):\n",
    "\t\tprint(\"This function is in child 2.\")\n",
    "\n",
    "object1 = Child1()\n",
    "object2 = Child2()\n",
    "object1.func1()\n",
    "object1.func2()\n",
    "object2.func1()\n",
    "object2.func3()"
   ]
  },
  {
   "cell_type": "markdown",
   "id": "34551027-8878-4514-b884-4ddb61725301",
   "metadata": {},
   "source": [
    "#### Hybrid Inheritance:\n",
    "Inheritance consisting of multiple types of inheritance is called hybrid inheritance."
   ]
  },
  {
   "cell_type": "code",
   "execution_count": 5,
   "id": "4634baed-424b-49b9-b397-b0ebc49bf05b",
   "metadata": {},
   "outputs": [
    {
     "name": "stdout",
     "output_type": "stream",
     "text": [
      "This function is in school.\n"
     ]
    }
   ],
   "source": [
    "class School:\n",
    "\tdef func1(self):\n",
    "\t\tprint(\"This function is in school.\")\n",
    "\n",
    "\n",
    "class Student1(School):\n",
    "\tdef func2(self):\n",
    "\t\tprint(\"This function is in student 1. \")\n",
    "\n",
    "\n",
    "class Student2(School):\n",
    "\tdef func3(self):\n",
    "\t\tprint(\"This function is in student 2.\")\n",
    "\n",
    "\n",
    "class Student3(Student1, School):\n",
    "\tdef func4(self):\n",
    "\t\tprint(\"This function is in student 3.\")\n",
    "\n",
    "        \n",
    "object = Student3() #it Can be access class - student , school\n",
    "object.func1()"
   ]
  },
  {
   "cell_type": "code",
   "execution_count": null,
   "id": "0a5a53a2-c38a-4fa3-80a9-20ebb066ff03",
   "metadata": {},
   "outputs": [],
   "source": []
  }
 ],
 "metadata": {
  "kernelspec": {
   "display_name": "Python 3 (ipykernel)",
   "language": "python",
   "name": "python3"
  },
  "language_info": {
   "codemirror_mode": {
    "name": "ipython",
    "version": 3
   },
   "file_extension": ".py",
   "mimetype": "text/x-python",
   "name": "python",
   "nbconvert_exporter": "python",
   "pygments_lexer": "ipython3",
   "version": "3.9.13"
  }
 },
 "nbformat": 4,
 "nbformat_minor": 5
}
