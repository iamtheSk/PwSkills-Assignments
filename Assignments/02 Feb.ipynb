{
 "cells": [
  {
   "cell_type": "markdown",
   "id": "b19ddc26-c30c-4dee-917e-6efea7e8da34",
   "metadata": {},
   "source": [
    "## 1.What are the characteristics of the tuples? Is tuple immutable?"
   ]
  },
  {
   "cell_type": "markdown",
   "id": "cb3d28a3-7412-44da-883b-00f334e6b96c",
   "metadata": {},
   "source": [
    "Tuple() Python refers to one of the four built-in data types in Python that are used to store collections of objects separated by commas within a single variable.\n",
    "\n",
    "The Characteristics of tuple is:\n",
    "    1. It is immutable\n",
    "    2.They are indexed\n",
    "    3.Tuples are ordered\n",
    "    4.They can contain duplicate items\n",
    "    \n",
    "Is tuple immutable? :\n",
    "      Yes , Tuples are Immutable , cannot make changes in a tuple once we create it."
   ]
  },
  {
   "cell_type": "markdown",
   "id": "f77708e2-c245-4eba-98eb-d93b7d00659f",
   "metadata": {},
   "source": [
    "## 2.What are the two tuple methods in python? Give an example of each method. Give a reason why\n",
    "tuples have only two in-built methods as compared to Lists."
   ]
  },
  {
   "cell_type": "markdown",
   "id": "01967fed-8aaf-4a8e-bf06-06edc47e0f48",
   "metadata": {},
   "source": [
    "There are only two built-in methods that can be used on a tuple. This is because methods that can add or remove items are not available in the tuple.\n",
    "\n",
    "Since tuple() is immutable, therefore, it does not change after the initial assigning of items. The methods used on a tuple are count() and index().\n",
    "\n",
    "Count() – This method returns the number of times a specific value occurs in a tuple\n",
    "\n",
    "index() – This method searches the tuple for a specific value after which it returns the position of the specific value."
   ]
  },
  {
   "cell_type": "code",
   "execution_count": 6,
   "id": "736424c9-6e0c-436e-9355-d2b5ea845e21",
   "metadata": {},
   "outputs": [],
   "source": [
    "t1 = (\"sk\",\"sf\",\"apple\",\"banana\",\"false\",\"True\",\"True\")"
   ]
  },
  {
   "cell_type": "code",
   "execution_count": 7,
   "id": "3c152c8b-f1a1-4e25-9168-6add16cabc14",
   "metadata": {},
   "outputs": [
    {
     "data": {
      "text/plain": [
       "2"
      ]
     },
     "execution_count": 7,
     "metadata": {},
     "output_type": "execute_result"
    }
   ],
   "source": [
    "#count\n",
    "\n",
    "t1.count(\"True\") #returns the count of 2 "
   ]
  },
  {
   "cell_type": "code",
   "execution_count": 10,
   "id": "f761a461-d873-4f93-9137-17c03469b147",
   "metadata": {},
   "outputs": [
    {
     "data": {
      "text/plain": [
       "3"
      ]
     },
     "execution_count": 10,
     "metadata": {},
     "output_type": "execute_result"
    }
   ],
   "source": [
    "#index\n",
    "\n",
    "t1.index(\"banana\") #returns the index of 3"
   ]
  },
  {
   "cell_type": "markdown",
   "id": "742cb144-6d61-4a33-9f5d-879e6bdbf544",
   "metadata": {},
   "source": [
    "### 3.Which collection datatypes in python do not allow duplicate items? Write a code using a set to remove duplicates from the given list.\n",
    "List = [1, 1, 1, 2, 1, 3, 1, 4, 2, 1, 2, 2, 2, 3, 2, 4, 3, 1, 3, 2, 3, 3, 3, 4, 4, 1, 4, 2, 4, 3, 4, 4]"
   ]
  },
  {
   "cell_type": "markdown",
   "id": "c1123766-c5ed-4d07-8356-fb43eb30247e",
   "metadata": {},
   "source": [
    "1.Sets are not allowed duplicates"
   ]
  },
  {
   "cell_type": "code",
   "execution_count": 1,
   "id": "1c5956e3-48f0-411b-8d2e-1cc460a40bfd",
   "metadata": {},
   "outputs": [],
   "source": [
    "2#\n",
    "List = [1, 1, 1, 2, 1, 3, 1, 4, 2, 1, 2, 2, 2, 3, 2, 4, 3, 1, 3, 2, 3, 3, 3, 4, 4, 1, 4, 2, 4, 3, 4, 4]\n",
    "\n",
    "newList = set(List)"
   ]
  },
  {
   "cell_type": "code",
   "execution_count": 3,
   "id": "8a187d0d-450f-47d9-a994-b27d1e094de5",
   "metadata": {},
   "outputs": [
    {
     "data": {
      "text/plain": [
       "{1, 2, 3, 4}"
      ]
     },
     "execution_count": 3,
     "metadata": {},
     "output_type": "execute_result"
    }
   ],
   "source": [
    "newList"
   ]
  },
  {
   "cell_type": "markdown",
   "id": "d29e93a5-29a7-429f-98fb-2ed40a2c12a9",
   "metadata": {},
   "source": [
    "## 4.Explain the difference between the union() and update() methods for a set. Give an example of\n",
    "each method."
   ]
  },
  {
   "cell_type": "markdown",
   "id": "6f2ee5bf-e4cd-4bea-a0d8-8b0ffcd7af99",
   "metadata": {},
   "source": [
    "union(): The union() method returns a new set that contains all elements from both the sets, without modifying either of the original sets.\n"
   ]
  },
  {
   "cell_type": "code",
   "execution_count": 11,
   "id": "758cfda2-7c27-4efc-99bc-e433ded1d545",
   "metadata": {},
   "outputs": [
    {
     "name": "stdout",
     "output_type": "stream",
     "text": [
      "{33, 11, 22}\n",
      "{'a', 'b', 'c'}\n",
      "{33, 22, 'c', 'a', 11, 'b'}\n"
     ]
    }
   ],
   "source": [
    "#example for union\n",
    "\n",
    "A = {11, 22, 33}\n",
    "B = {'a', 'b', 'c'}\n",
    "C = A.union(B)\n",
    "print(A) \n",
    "print(B) \n",
    "print(C) "
   ]
  },
  {
   "cell_type": "markdown",
   "id": "a7fedb88-344e-4eda-a719-7487a407483e",
   "metadata": {},
   "source": [
    "update(): The update() method adds all elements from one set into another set, modifying the original set. It is an inplace operations"
   ]
  },
  {
   "cell_type": "code",
   "execution_count": 12,
   "id": "b356a64f-6c29-49e2-ab64-58467a5a766c",
   "metadata": {},
   "outputs": [
    {
     "name": "stdout",
     "output_type": "stream",
     "text": [
      "{33, 22, 'c', 'a', 11, 'b'}\n",
      "{'a', 'b', 'c'}\n",
      "None\n"
     ]
    }
   ],
   "source": [
    "#example for update\n",
    "\n",
    "A = {11, 22, 33}\n",
    "B = {'a', 'b', 'c'}\n",
    "C = A.update(B)\n",
    "print(A) \n",
    "print(B) \n",
    "print(C) "
   ]
  },
  {
   "cell_type": "markdown",
   "id": "de510c2c-74f6-4cba-8978-db4ad78efdcb",
   "metadata": {},
   "source": [
    "## 5.What is a dictionary? Give an example. Also, state whether a dictionary is ordered or unordered."
   ]
  },
  {
   "cell_type": "markdown",
   "id": "8a208521-0dbc-40f4-91d1-159e769ed461",
   "metadata": {},
   "source": [
    "* Dictionary in python is the key-value collection of data.\n",
    "* It encloses in braces. Each key-value pair is called an item. Each item is separated by comma.\n",
    "* Keys are immutable and unique while values can be mutable, immutable, and duplicate.\n",
    "* For previous versions of Python, it was unordered. Now, in Python, they have introduced a subclass named OrderedDict of dict to maintain the order of the items."
   ]
  },
  {
   "cell_type": "code",
   "execution_count": 13,
   "id": "16a42b3d-a68c-4029-be4b-a16bcf3586d5",
   "metadata": {},
   "outputs": [],
   "source": [
    "#example of dict\n",
    "\n",
    "d = {\"College\" : \"abc\" , \"Branch\" : ['Commerce' , 'Science' , 'Arts'] , \"dept_code\" : (101 , 102 , 103)}"
   ]
  },
  {
   "cell_type": "code",
   "execution_count": 14,
   "id": "c56f9837-a18c-4033-8ece-d74f9868f45a",
   "metadata": {},
   "outputs": [
    {
     "data": {
      "text/plain": [
       "{'College': 'abc',\n",
       " 'Branch': ['Commerce', 'Science', 'Arts'],\n",
       " 'dept_code': (101, 102, 103)}"
      ]
     },
     "execution_count": 14,
     "metadata": {},
     "output_type": "execute_result"
    }
   ],
   "source": [
    "d"
   ]
  },
  {
   "cell_type": "markdown",
   "id": "d6e66f65-7e7f-43ff-881a-ba188e50c53f",
   "metadata": {},
   "source": [
    "## 6.Can we create a nested dictionary? If so, please give an example by creating a simple one-level nested dictionary."
   ]
  },
  {
   "cell_type": "markdown",
   "id": "32b89457-ee86-4c38-842e-6ff0336eca05",
   "metadata": {},
   "source": [
    "Yeah , we can Create the nested dict (dict inside another dict) "
   ]
  },
  {
   "cell_type": "code",
   "execution_count": 23,
   "id": "c7860d8f-5eff-47e8-b456-0224bab8358c",
   "metadata": {},
   "outputs": [],
   "source": [
    "dict1 = {\"name\" : \"sk\" ,\"age\" : \"20\",\"courseName\" : {\"Data science masters\",\"web development\", \"Java with System Design\"},\"StartMonth\" : \"February\"}"
   ]
  },
  {
   "cell_type": "code",
   "execution_count": 24,
   "id": "1197b356-3bff-40bf-ae33-f97406198a70",
   "metadata": {},
   "outputs": [
    {
     "name": "stdout",
     "output_type": "stream",
     "text": [
      "{'name': 'sk', 'age': '20', 'courseName': {'Java with System Design', 'web development', 'Data science masters'}, 'StartMonth': 'February'}\n"
     ]
    }
   ],
   "source": [
    "print(dict1)"
   ]
  },
  {
   "cell_type": "markdown",
   "id": "e6ab9d81-1e0c-4e39-9fd6-9acfb34bfac8",
   "metadata": {},
   "source": [
    "## 7. Using setdefault() method, create key named topics in the given dictionary and also add the value of the key as this list ['Python', 'Machine Learning’, 'Deep Learning']"
   ]
  },
  {
   "cell_type": "code",
   "execution_count": 25,
   "id": "3c84c54d-1e4f-4b54-b26d-4d13573b67e6",
   "metadata": {},
   "outputs": [],
   "source": [
    "data = {'language' : 'Python', 'course': 'Data Science Masters'}"
   ]
  },
  {
   "cell_type": "code",
   "execution_count": 27,
   "id": "8512da0b-f63c-4a45-a5dd-b9c451578905",
   "metadata": {},
   "outputs": [
    {
     "data": {
      "text/plain": [
       "['Python', 'Machine Learning', 'Deep learning']"
      ]
     },
     "execution_count": 27,
     "metadata": {},
     "output_type": "execute_result"
    }
   ],
   "source": [
    "data.setdefault(\"topics\" ,['Python', 'Machine Learning','Deep learning'])"
   ]
  },
  {
   "cell_type": "code",
   "execution_count": 28,
   "id": "bbe6563d-41c1-440e-b549-cbf3bac731db",
   "metadata": {},
   "outputs": [
    {
     "data": {
      "text/plain": [
       "{'language': 'Python',\n",
       " 'course': 'Data Science Masters',\n",
       " 'topics': ['Python', 'Machine Learning', 'Deep learning']}"
      ]
     },
     "execution_count": 28,
     "metadata": {},
     "output_type": "execute_result"
    }
   ],
   "source": [
    "data"
   ]
  },
  {
   "cell_type": "markdown",
   "id": "8de55118-20d5-4b45-9d81-53005b272dcd",
   "metadata": {},
   "source": [
    "## 8. What are the three view objects in dictionaries? Use the three in-built methods in python to display these three view objects for the given dictionary.\n",
    "### dict1 = {'Sport': 'Cricket' , 'Teams': ['India', 'Australia', 'England', 'South Africa', 'Sri Lanka', 'New Zealand']}"
   ]
  },
  {
   "cell_type": "code",
   "execution_count": 29,
   "id": "7974565f-fbac-4f48-9fa3-9b11b9a0e0a4",
   "metadata": {},
   "outputs": [],
   "source": [
    "# keys,view, items are three view objects in dict\n",
    "\n",
    "dict1 = {'Sport': 'Cricket' , 'Teams': ['India', 'Australia', 'England', 'South Africa', 'Sri Lanka', 'New Zealand']}"
   ]
  },
  {
   "cell_type": "code",
   "execution_count": 30,
   "id": "125a1302-e5b0-499d-987c-0589a0b072d2",
   "metadata": {},
   "outputs": [
    {
     "data": {
      "text/plain": [
       "dict_keys(['Sport', 'Teams'])"
      ]
     },
     "execution_count": 30,
     "metadata": {},
     "output_type": "execute_result"
    }
   ],
   "source": [
    "dict1.keys() #prints the keys of dict"
   ]
  },
  {
   "cell_type": "code",
   "execution_count": 31,
   "id": "01ce3662-d083-47df-a42b-3d83951c99df",
   "metadata": {},
   "outputs": [
    {
     "data": {
      "text/plain": [
       "dict_values(['Cricket', ['India', 'Australia', 'England', 'South Africa', 'Sri Lanka', 'New Zealand']])"
      ]
     },
     "execution_count": 31,
     "metadata": {},
     "output_type": "execute_result"
    }
   ],
   "source": [
    "dict1.values() #prints the values of dict"
   ]
  },
  {
   "cell_type": "code",
   "execution_count": 33,
   "id": "ae0df731-7785-442e-a6c6-502e5552f481",
   "metadata": {},
   "outputs": [
    {
     "data": {
      "text/plain": [
       "dict_items([('Sport', 'Cricket'), ('Teams', ['India', 'Australia', 'England', 'South Africa', 'Sri Lanka', 'New Zealand'])])"
      ]
     },
     "execution_count": 33,
     "metadata": {},
     "output_type": "execute_result"
    }
   ],
   "source": [
    "dict1.items() #prints the keys and those values of dict"
   ]
  },
  {
   "cell_type": "code",
   "execution_count": null,
   "id": "d0dadac3-fedf-4ea5-84be-2ce313ba65c8",
   "metadata": {},
   "outputs": [],
   "source": []
  }
 ],
 "metadata": {
  "kernelspec": {
   "display_name": "Python 3 (ipykernel)",
   "language": "python",
   "name": "python3"
  },
  "language_info": {
   "codemirror_mode": {
    "name": "ipython",
    "version": 3
   },
   "file_extension": ".py",
   "mimetype": "text/x-python",
   "name": "python",
   "nbconvert_exporter": "python",
   "pygments_lexer": "ipython3",
   "version": "3.9.13"
  }
 },
 "nbformat": 4,
 "nbformat_minor": 5
}
