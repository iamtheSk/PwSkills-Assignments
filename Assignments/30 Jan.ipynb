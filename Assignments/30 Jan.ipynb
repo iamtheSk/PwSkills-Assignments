{
 "cells": [
  {
   "cell_type": "markdown",
   "id": "135dab77-bf43-4f02-9a52-29197ab2c9fa",
   "metadata": {},
   "source": [
    "1.Write a program to accept percentage from the user and display the grade according to the following"
   ]
  },
  {
   "cell_type": "code",
   "execution_count": 176,
   "id": "6ff02d7c-db51-4ce1-a44e-8ef7a9210fd9",
   "metadata": {},
   "outputs": [
    {
     "name": "stdin",
     "output_type": "stream",
     "text": [
      "Enter your marks 89\n"
     ]
    },
    {
     "name": "stdout",
     "output_type": "stream",
     "text": [
      "B grade\n"
     ]
    }
   ],
   "source": [
    "marks = float(input(\"Enter your marks\"))\n",
    "if marks > 90:\n",
    "    print(\"A grade\")\n",
    "elif marks > 80 and marks <=90:\n",
    "    print(\"B grade\")\n",
    "elif marks >=60 and marks <=80:\n",
    "    print(\"C grade\")\n",
    "else:\n",
    "    print(\"D grade\")"
   ]
  },
  {
   "cell_type": "markdown",
   "id": "6ef2ba60-f712-409a-9c10-032202041d3e",
   "metadata": {},
   "source": [
    "2.Write a program to accept the cost price of a bike and display the road tax to be paid according to the"
   ]
  },
  {
   "cell_type": "code",
   "execution_count": 179,
   "id": "aad0c9b3-0f38-4cbd-994b-490495149c18",
   "metadata": {},
   "outputs": [
    {
     "name": "stdin",
     "output_type": "stream",
     "text": [
      "Enter the cost 700000\n"
     ]
    },
    {
     "name": "stdout",
     "output_type": "stream",
     "text": [
      "your road tax 15% is: 105000.0\n"
     ]
    }
   ],
   "source": [
    "cost_of_bike = float(input(\"Enter the cost\"))\n",
    "\n",
    "if cost_of_bike > 100000:\n",
    "    print(\"your road tax 15% is:\",(cost_of_bike * 15 /100))\n",
    "elif  cost_of_bike>50000 and cost_of_bike<=100000:\n",
    "    print(\"your road tax 10% is:\",(cost_of_bike * 10 /100))\n",
    "else : #else is <=50000\n",
    "    print(\"your road tax 5% is:\",(cost_of_bike * 5 /100))             "
   ]
  },
  {
   "cell_type": "markdown",
   "id": "080cd199-0526-4689-9e1a-4ec46b216457",
   "metadata": {},
   "source": [
    "3. Accept any city from the user and display monuments of that city"
   ]
  },
  {
   "cell_type": "code",
   "execution_count": 45,
   "id": "727cd840-6432-43a6-9684-3d0ec17934c7",
   "metadata": {},
   "outputs": [
    {
     "name": "stdin",
     "output_type": "stream",
     "text": [
      "Enter the city Jaipur\n"
     ]
    },
    {
     "name": "stdout",
     "output_type": "stream",
     "text": [
      "The Monument in Jaipur is : Jal Mahal\n"
     ]
    }
   ],
   "source": [
    "user = str(input(\"Enter the city\"))\n",
    "\n",
    "if user == \"Delhi\":\n",
    "    print(\"The Monument in Delhi is : RED FORT\")\n",
    "elif user == \"Agra\":\n",
    "    print(\"The Monument in Agra is : Taj Mahal\")\n",
    "elif user == \"Jaipur\":\n",
    "    print(\"The Monument in Jaipur is : Jal Mahal\")\n",
    "else:\n",
    "    pass"
   ]
  },
  {
   "cell_type": "markdown",
   "id": "ced1aa18-7bce-43ee-903f-7b3b3deb604b",
   "metadata": {},
   "source": [
    "4.Check how many times a given number can be divided by 3 before it is less than or equal to 10. "
   ]
  },
  {
   "cell_type": "code",
   "execution_count": 159,
   "id": "0996206f-9182-4e55-ab5f-652162867a91",
   "metadata": {},
   "outputs": [
    {
     "name": "stdin",
     "output_type": "stream",
     "text": [
      "Enter Nummber : 33\n"
     ]
    },
    {
     "name": "stdout",
     "output_type": "stream",
     "text": [
      "2\n"
     ]
    }
   ],
   "source": [
    "n = int(input(\"Enter Nummber :\" ))\n",
    "count = 0\n",
    "while n > 10:\n",
    "    n = n / 3\n",
    "    count += 1\n",
    "print(count)"
   ]
  },
  {
   "cell_type": "markdown",
   "id": "c644231a-202a-4fbd-85ee-269bd471a5eb",
   "metadata": {},
   "source": [
    "5. Why and When to Use while Loop in Python give a detailed description with example "
   ]
  },
  {
   "cell_type": "code",
   "execution_count": null,
   "id": "245aad90-f8a6-4eb5-8dd7-1ee2be1951b9",
   "metadata": {},
   "outputs": [],
   "source": [
    "# A while loop in Python is used to repeatedly execute a block of code\n",
    "# as long as a certain condition is met.\n",
    "# The loop will keep running as long as the condition is True,\n",
    "# and will exit when the condition becomes False.\n",
    "\n",
    "# Here's the general syntax for a while loop in Python:\n",
    "# while condition:\n",
    "#     # Code to be executed\n",
    "\n",
    "# Here's an example that demonstrates the use of a while loop:\n",
    "# Print the numbers from 1 to 10\n",
    "counter = 1\n",
    "\n",
    "while counter <= 10:\n",
    "    print(counter)\n",
    "    counter += 1\n",
    "\n",
    "# In this example, the while loop will run as long as\n",
    "# the value of counter is less than or equal to 10.\n",
    "# On each iteration of the loop, the value of counter is printed,\n",
    "# and then incremented by 1.\n",
    "# The loop will exit when the value of counter becomes greater than 10.\n",
    "\n",
    "# The while loop is useful when you don't know in advance how many times\n",
    "# you need to loop, and you want to keep looping until a certain condition is met.\n",
    "# For example, you can use a while loop to read data from a file until the end of the file is reached,\n",
    "# or to keep asking the user for input until a valid response is given."
   ]
  },
  {
   "cell_type": "markdown",
   "id": "c7ef33b4-44c6-42fc-90e3-74cce721d4c3",
   "metadata": {},
   "source": [
    "6.Use nested while loop to print 3 different pattern"
   ]
  },
  {
   "cell_type": "code",
   "execution_count": 166,
   "id": "2b4fa2f5-17ea-40b4-a388-08ca46c50330",
   "metadata": {},
   "outputs": [
    {
     "name": "stdout",
     "output_type": "stream",
     "text": [
      "Pattern 1\n",
      "1\n",
      "12\n",
      "123\n",
      "1234\n",
      "----------------------------------------------------------------\n",
      "Pattern 2\n",
      "*\n",
      "**\n",
      "***\n",
      "****\n",
      "----------------------------------------------------------------\n",
      "Pattern 3\n",
      "******************\n",
      "******************\n",
      "******************\n",
      "******************\n",
      "******************\n",
      "******************\n",
      "******************\n",
      "******************\n",
      "******************\n"
     ]
    }
   ],
   "source": [
    "#pattern 1 \n",
    "print(\"Pattern 1\")\n",
    "#initialize variables \n",
    "i=1\n",
    "j=1\n",
    "#while loop\n",
    "while i<5:\n",
    "    #nested while\n",
    "    while j<=i:\n",
    "        #printed j without space\n",
    "        print(j, end=\"\")\n",
    "        #increment j by 1\n",
    "        j+=1\n",
    "    #print new line\n",
    "    print()\n",
    "    #reset value of j\n",
    "    j=1\n",
    "    #increment value of i by 1\n",
    "    i+=1\n",
    "\n",
    "print(\"----------------------------------------------------------------\")\n",
    "print(\"Pattern 2\")\n",
    "#initialize variables \n",
    "i=1\n",
    "j=1\n",
    "#while loop\n",
    "while i<5:\n",
    "    #nested while\n",
    "    while j<=i:\n",
    "        #printed * without space\n",
    "        print(\"*\", end=\"\")\n",
    "        #increment j by 1\n",
    "        j+=1\n",
    "    #print new line\n",
    "    print()\n",
    "    #reset value of j\n",
    "    j=1\n",
    "    #increment value of i by 1\n",
    "    i+=1\n",
    "\n",
    "print(\"----------------------------------------------------------------\")\n",
    "print(\"Pattern 3\")\n",
    "#initialize variables \n",
    "i=1\n",
    "j=1\n",
    "#while loop\n",
    "while i<10:\n",
    "    #nested while\n",
    "    while j<10:\n",
    "        print(\"*\", end=\"*\")\n",
    "        #increment j by 1\n",
    "        j+=1\n",
    "    #print new line\n",
    "    print()\n",
    "    #reset value of j\n",
    "    j=1\n",
    "    #increment value of i by 1\n",
    "    i+=1"
   ]
  },
  {
   "cell_type": "markdown",
   "id": "6c8a15e5-a0f9-4a0d-ab98-e5a412ff6f9c",
   "metadata": {},
   "source": [
    "7.Reverse a while loop to display numbers from 10 to 1. "
   ]
  },
  {
   "cell_type": "code",
   "execution_count": 172,
   "id": "5fc4b2b3-0356-4985-ab1d-144e967af0a8",
   "metadata": {},
   "outputs": [
    {
     "name": "stdout",
     "output_type": "stream",
     "text": [
      "10\n",
      "9\n",
      "8\n",
      "7\n",
      "6\n",
      "5\n",
      "4\n",
      "3\n",
      "2\n",
      "1\n"
     ]
    }
   ],
   "source": [
    "num1=10\n",
    "num2=1\n",
    "#while loop\n",
    "while num1>=num2:\n",
    "    #print num1\n",
    "    print(num1)\n",
    "    #decrement by 1\n",
    "    num1-=1"
   ]
  },
  {
   "cell_type": "markdown",
   "id": "ca20fda3-52e8-4c87-b024-5d24ec9b1e6f",
   "metadata": {},
   "source": [
    "8.Reverse a while loop to display numbers from 10 to 1."
   ]
  },
  {
   "cell_type": "code",
   "execution_count": 174,
   "id": "852bb5d5-74db-4fcc-9369-ec9ef9457c24",
   "metadata": {},
   "outputs": [
    {
     "name": "stdout",
     "output_type": "stream",
     "text": [
      "10\n",
      "9\n",
      "8\n",
      "7\n",
      "6\n",
      "5\n",
      "4\n",
      "3\n",
      "2\n",
      "1\n"
     ]
    }
   ],
   "source": [
    "num1=10\n",
    "num2=1\n",
    "#while loop\n",
    "while num1>=num2:\n",
    "    #print num1\n",
    "    print(num1)\n",
    "    #decrement by 1\n",
    "    num1-=1"
   ]
  },
  {
   "cell_type": "code",
   "execution_count": null,
   "id": "6d5e489f-20e4-49ce-8c10-4b95ebeb5848",
   "metadata": {},
   "outputs": [],
   "source": []
  }
 ],
 "metadata": {
  "kernelspec": {
   "display_name": "Python 3 (ipykernel)",
   "language": "python",
   "name": "python3"
  },
  "language_info": {
   "codemirror_mode": {
    "name": "ipython",
    "version": 3
   },
   "file_extension": ".py",
   "mimetype": "text/x-python",
   "name": "python",
   "nbconvert_exporter": "python",
   "pygments_lexer": "ipython3",
   "version": "3.9.13"
  }
 },
 "nbformat": 4,
 "nbformat_minor": 5
}
