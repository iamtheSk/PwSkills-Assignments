{
 "cells": [
  {
   "cell_type": "markdown",
   "id": "9b4e1f02-ecc9-4769-bb64-166032514cc7",
   "metadata": {},
   "source": [
    "##### Python task 1"
   ]
  },
  {
   "cell_type": "markdown",
   "id": "47751a2e-dfa4-4b1f-b547-85a1b0b98145",
   "metadata": {},
   "source": [
    "### Create a function which will take a list as an argument and return the product of all the numbers after creating a flat list. Use the below-given list as an argument for your function.\n",
    "list1 = [1,2,3,4, [44,55,66, True], False, (34,56,78,89,34), {1,2,3,3,2,1}, {1:34, \"key2\": [55, 67, 78, 89], 4: (45,\n",
    "22, 61, 34)}, [56, 'data science'], 'Machine Learning']\n",
    "\n",
    "Note: you must extract numeric keys and values of the dictionary also."
   ]
  },
  {
   "cell_type": "code",
   "execution_count": 1,
   "id": "919efc09-2250-48fc-9440-70107ccee0b1",
   "metadata": {},
   "outputs": [],
   "source": [
    "list1 = [1,2,3,4, [44,55,66, True], False, (34,56,78,89,34), {1,2,3,3,2,1}, {1:34, \"key2\": [55, 67, 78, 89], 4: (45,\n",
    "22, 61, 34)}, [56, 'data science'], 'Machine Learning']"
   ]
  },
  {
   "cell_type": "code",
   "execution_count": 2,
   "id": "ad90ca3b-469b-48c3-914f-babda51f5c28",
   "metadata": {},
   "outputs": [],
   "source": [
    "def flat_list (lst): #function \n",
    "    lst1= list()\n",
    "    for i in lst:\n",
    "        if type(i)== int: \n",
    "            lst1.append(i)\n",
    "        elif type(i)== list:\n",
    "            for j in i:\n",
    "                if type(j)==int:\n",
    "                    lst1.append(j)\n",
    "        elif type(i)== tuple:\n",
    "            for j in i:\n",
    "                if type(j)==int:\n",
    "                    lst1.append(j)\n",
    "        elif type(i)== set:\n",
    "            for j in i:\n",
    "                if type(j)==int:\n",
    "                    lst1.append(j)\n",
    "        elif type(i)== dict:\n",
    "            for j in i.keys():\n",
    "                if type(j)==int:\n",
    "                    lst1.append(j)\n",
    "            for j in i.values():\n",
    "                if type(j)==int:\n",
    "                    lst1.append(j)\n",
    "                elif type(j)== tuple:\n",
    "                    for k in j:\n",
    "                        if type(k)==int:\n",
    "                            lst1.append(k)\n",
    "                elif type(j)== list:\n",
    "                    for k in j:\n",
    "                        if type(k)==int:\n",
    "                            lst1.append(k)\n",
    "        \n",
    "    return lst1"
   ]
  },
  {
   "cell_type": "code",
   "execution_count": 5,
   "id": "dadb044e-bbc0-4882-aa53-b55d37e3f078",
   "metadata": {},
   "outputs": [
    {
     "name": "stdout",
     "output_type": "stream",
     "text": [
      "[1, 2, 3, 4, 44, 55, 66, 34, 56, 78, 89, 34, 1, 2, 3, 1, 4, 34, 55, 67, 78, 89, 45, 22, 61, 34, 56]\n",
      "4134711838987085478833841242112000\n"
     ]
    }
   ],
   "source": [
    "print(flat_list(list1))\n",
    "\n",
    "product=1\n",
    "for i in flat_list(list1):\n",
    "    product*=i\n",
    "print(product)"
   ]
  },
  {
   "cell_type": "code",
   "execution_count": null,
   "id": "836ca0eb-ba99-4977-a72e-be6f05ef125e",
   "metadata": {},
   "outputs": [],
   "source": []
  },
  {
   "cell_type": "markdown",
   "id": "eb7fae99-9abc-466e-83e2-b0ff468f30ec",
   "metadata": {},
   "source": [
    "### 2. Write a python program for encrypting a message sent to you by your friend. The logic of encryption should be such that, for a the output should be z. For b, the output should be y. For c, the output should be x respectively. Also, the whitespace should be replaced with a dollar sign. Keep the punctuation marks unchanged.\n",
    "Input Sentence: I want to become a Data Scientist.\n",
    "Encrypt the above input sentence using the program you just created.\n",
    "Note: Convert the given input sentence into lowercase before encrypting. The final output should be\n",
    "lowercase."
   ]
  },
  {
   "cell_type": "code",
   "execution_count": 21,
   "id": "3105be29-79fd-41e7-a22c-90431bfda7e5",
   "metadata": {},
   "outputs": [
    {
     "name": "stdin",
     "output_type": "stream",
     "text": [
      "Enter the message: I want to become a Data Scientist\n"
     ]
    },
    {
     "name": "stdout",
     "output_type": "stream",
     "text": [
      "Encrypted message:  r$dzmg$gl$yuxlnu$z$vzgz$hxrumgrhg\n"
     ]
    }
   ],
   "source": [
    "def encrypt(message):\n",
    "    list1={\"a\": \"z\", \"b\": \"y\", \"c\": \"x\", \"d\": \"v\", \"e\": \"u\", \"f\":\"u\",\"g\":\"t\",\"h\":\"s\",\"i\":\"r\",\"j\":\"q\",\n",
    "             \"k\":\"p\",\"l\":\"o\",\"m\":\"n\",\"n\":\"m\",\"o\":\"l\",\"p\":\"k\",\"q\":\"j\",\"r\":\"i\",\"s\":\"h\",\"t\":\"g\",\"u\":\"f\",\"v\":\"e\",\n",
    "             \"w\":\"d\",\"x\":\"c\",\"y\":\"b\",\"z\":\"a\"} #input char act as key,key values that out as encrypt message\n",
    "    \n",
    "    message=message.lower().replace(' ',\"$\")\n",
    "    encrypted=' '\n",
    "    for letter in message:\n",
    "        if letter in list1:\n",
    "            encrypted = encrypted+list1[letter]\n",
    "        else:\n",
    "            encrypted = encrypted+letter\n",
    "    return encrypted\n",
    "\n",
    "user_input=input(\"Enter the message:\")\n",
    "encrypted_sentence = encrypt(user_input)\n",
    "print(\"Encrypted message:\",encrypted_sentence)"
   ]
  },
  {
   "cell_type": "code",
   "execution_count": null,
   "id": "88000dfb-5ab2-411e-80af-0bd0c975c6a3",
   "metadata": {},
   "outputs": [],
   "source": []
  }
 ],
 "metadata": {
  "kernelspec": {
   "display_name": "Python 3 (ipykernel)",
   "language": "python",
   "name": "python3"
  },
  "language_info": {
   "codemirror_mode": {
    "name": "ipython",
    "version": 3
   },
   "file_extension": ".py",
   "mimetype": "text/x-python",
   "name": "python",
   "nbconvert_exporter": "python",
   "pygments_lexer": "ipython3",
   "version": "3.9.13"
  }
 },
 "nbformat": 4,
 "nbformat_minor": 5
}
