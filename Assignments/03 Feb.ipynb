{
 "cells": [
  {
   "cell_type": "markdown",
   "id": "0ae48137-40f0-4616-88e9-90ebb585260c",
   "metadata": {},
   "source": [
    "### 1.Which keyword is used to create a function? Create a function to return a list of odd numbers in the\n",
    "range of 1 to 25."
   ]
  },
  {
   "cell_type": "code",
   "execution_count": 9,
   "id": "7ccc8f7f-a7dc-43ce-bdb1-cefb659e92d2",
   "metadata": {},
   "outputs": [],
   "source": [
    "def odd():\n",
    "    for i in range(0,25):\n",
    "        if (i%2)==1:\n",
    "            print(\"odd numbers :\",i)\n",
    "            "
   ]
  },
  {
   "cell_type": "code",
   "execution_count": 10,
   "id": "6e625108-c095-448c-aaf0-cf773dde86b5",
   "metadata": {},
   "outputs": [
    {
     "name": "stdout",
     "output_type": "stream",
     "text": [
      "odd numbers : 1\n",
      "odd numbers : 3\n",
      "odd numbers : 5\n",
      "odd numbers : 7\n",
      "odd numbers : 9\n",
      "odd numbers : 11\n",
      "odd numbers : 13\n",
      "odd numbers : 15\n",
      "odd numbers : 17\n",
      "odd numbers : 19\n",
      "odd numbers : 21\n",
      "odd numbers : 23\n"
     ]
    }
   ],
   "source": [
    "odd()"
   ]
  },
  {
   "cell_type": "markdown",
   "id": "a1ac63d0-d3e5-41cf-90ee-c1a71733578b",
   "metadata": {},
   "source": [
    "### 2.Why *args and **kwargs is used in some functions? Create a function each for *args and **kwargs to demonstrate their use."
   ]
  },
  {
   "cell_type": "markdown",
   "id": "59031ae5-06ae-49fb-a601-0ccf5f9faf84",
   "metadata": {
    "jp-MarkdownHeadingCollapsed": true,
    "tags": []
   },
   "source": [
    "1. *args - args means the aruguments , args like tuple you can extract you can apply any logic\n",
    "In the function, we use an asterisk * before the parameter name to pass variable length arguments.The arguments are passed as a tuple and these passed arguments make tuple inside the function with same name as the parameter excluding asterisk *."
   ]
  },
  {
   "cell_type": "code",
   "execution_count": 12,
   "id": "f92c3fc7-e507-48cd-87e4-eebfdbf23f59",
   "metadata": {},
   "outputs": [],
   "source": [
    "def test(*args):#args like tuple you can extract you can apply any logic\n",
    "    l=[]\n",
    "    for i in args:\n",
    "        if type(i) == list:\n",
    "            l.append(i)\n",
    "    return l"
   ]
  },
  {
   "cell_type": "code",
   "execution_count": 13,
   "id": "6e3f5e67-d3c5-4e5f-ba9e-e06ceea59826",
   "metadata": {},
   "outputs": [
    {
     "data": {
      "text/plain": [
       "[[4, 5, 6, 'sk'], [0, 1]]"
      ]
     },
     "execution_count": 13,
     "metadata": {},
     "output_type": "execute_result"
    }
   ],
   "source": [
    "test(1,2,[4,5,6,\"sk\"],[0,1])"
   ]
  },
  {
   "cell_type": "markdown",
   "id": "4c8a3614-a9b1-43dd-b782-650c00e90dd8",
   "metadata": {},
   "source": [
    "2. ** args - ** defines any number of input as key and values pairs , stores in dict manner\n",
    "Python passes variable length non keyword argument to function using args but we cannot use this to pass keyword argument(basically dictionaries). For this problem Python has got a solution called *kwargs, it allows us to pass the variable length of keyword arguments to the function.\n",
    "In the function, we use the double asterisk ** before the parameter name to denote this type of argument. The arguments are passed as a dictionary and these arguments make a dictionary inside function with name same as the parameter excluding double asterisk **."
   ]
  },
  {
   "cell_type": "code",
   "execution_count": 16,
   "id": "44346724-f402-40f7-a2d6-38c8fc11e1d9",
   "metadata": {},
   "outputs": [],
   "source": [
    "def test1(**kwargs):\n",
    "    return kwargs"
   ]
  },
  {
   "cell_type": "code",
   "execution_count": 17,
   "id": "6be7f98c-6dc0-4ff0-a921-55a015a567b1",
   "metadata": {},
   "outputs": [
    {
     "name": "stdout",
     "output_type": "stream",
     "text": [
      "the Datatype of this function <class 'dict'>\n"
     ]
    }
   ],
   "source": [
    "print(\"the Datatype of this function\",type(test1()))"
   ]
  },
  {
   "cell_type": "code",
   "execution_count": 18,
   "id": "5a60e551-702f-41a7-aeac-7835d3003242",
   "metadata": {},
   "outputs": [
    {
     "data": {
      "text/plain": [
       "{'a': 23, 'b': 44, 'c': [1, 2, 3, 4], 'd': ('sk', 'sf')}"
      ]
     },
     "execution_count": 18,
     "metadata": {},
     "output_type": "execute_result"
    }
   ],
   "source": [
    "test1(a=23,b=44,c=[1,2,3,4],d = (\"sk\",\"sf\",)) #store in dict manner"
   ]
  },
  {
   "cell_type": "markdown",
   "id": "ae4d8226-8655-49b7-8477-f4b467f4535e",
   "metadata": {},
   "source": [
    "### 3. What is an iterator in python? Name the method used to initialise the iterator object and the method used for iteration. Use these methods to print the first five elements of the given list [2, 4, 6, 8, 10, 12, 14, 16,18, 20]."
   ]
  },
  {
   "cell_type": "code",
   "execution_count": 32,
   "id": "5bce71c4-b339-49f9-bbe8-8622d36b3312",
   "metadata": {},
   "outputs": [
    {
     "name": "stdout",
     "output_type": "stream",
     "text": [
      "2\n",
      "4\n",
      "6\n",
      "8\n",
      "10\n"
     ]
    }
   ],
   "source": [
    "lst = [2, 4, 6, 8, 10, 12, 14, 16, 18, 20]\n",
    "\n",
    "lst_iterator = iter(lst)\n",
    " \n",
    "print(next(lst_iterator))\n",
    "print(next(lst_iterator))\n",
    "print(next(lst_iterator))\n",
    "print(next(lst_iterator))\n",
    "print(next(lst_iterator))"
   ]
  },
  {
   "cell_type": "markdown",
   "id": "6cfa4635-1727-4f41-b996-7a5e0f3ad1cd",
   "metadata": {},
   "source": [
    "### 4.What is a generator function in python? Why yield keyword is used? Give an example of a generator function."
   ]
  },
  {
   "cell_type": "markdown",
   "id": "6c10b0c0-8ce7-4c28-bcac-5db0c0226890",
   "metadata": {},
   "source": [
    "Generator functions are a special kind of function that return a lazy iterator called a generator iterator. These are objects that you can loop over like a list. However, unlike lists, lazy iterators do not store their contents in memory.\n",
    "The yield keyword in Python controls the flow of a generator function. This is similar to a return statement used for returning values in Python. However, there is a difference.\n",
    "When you call a function that has a yield statement, as soon as a yield is encountered, the execution of the function halts and returns a generator iterator object instead of simply returning a value. The state of the function, which includes variable bindings, the instruction pointer, the internal stack, and a few other things, is saved.\n",
    "In other words, the yield keyword will convert an expression that is specified along with it to a generator iterator, and return it to the caller."
   ]
  },
  {
   "cell_type": "code",
   "execution_count": 37,
   "id": "ad942a32-7408-463e-bbe0-7b7fdc9be8f3",
   "metadata": {},
   "outputs": [],
   "source": [
    "def test_fib(n):\n",
    "    a,b= 0,1\n",
    "    for i in range(n):\n",
    "        yield a\n",
    "        a,b= b,a+b"
   ]
  },
  {
   "cell_type": "code",
   "execution_count": 38,
   "id": "3e2a8f96-6a7b-4309-85a8-d9fb7625fa2d",
   "metadata": {},
   "outputs": [
    {
     "name": "stdout",
     "output_type": "stream",
     "text": [
      "0\n",
      "1\n",
      "1\n",
      "2\n",
      "3\n",
      "5\n",
      "8\n",
      "13\n",
      "21\n",
      "34\n"
     ]
    }
   ],
   "source": [
    "for i in test_fib(10):\n",
    "    print(i)"
   ]
  },
  {
   "cell_type": "markdown",
   "id": "90a31208-e647-4523-8aac-bdcb0d31e4b5",
   "metadata": {},
   "source": [
    "### 5.Create a generator function for prime numbers less than 1000. Use the next() method to print the first 20 prime numbers."
   ]
  },
  {
   "cell_type": "code",
   "execution_count": 39,
   "id": "0fdd9fbe-e372-4ae6-93cc-1d2b5bafb5fa",
   "metadata": {},
   "outputs": [],
   "source": [
    "def prime_no(a,b):\n",
    "    for i in range(a,b): \n",
    "        for j in range(2,b):\n",
    "            if i%j == 0:\n",
    "                break\n",
    "        if i == j:\n",
    "            yield i"
   ]
  },
  {
   "cell_type": "code",
   "execution_count": 40,
   "id": "666352f2-66b2-4a1e-844c-1d4dad1ae032",
   "metadata": {},
   "outputs": [],
   "source": [
    "lst = iter(prime_no(1,1000))"
   ]
  },
  {
   "cell_type": "code",
   "execution_count": 41,
   "id": "408f62d6-6fad-4925-8553-dc472a0a5153",
   "metadata": {},
   "outputs": [
    {
     "name": "stdout",
     "output_type": "stream",
     "text": [
      "2\n",
      "3\n",
      "5\n",
      "7\n",
      "11\n",
      "13\n",
      "17\n",
      "19\n",
      "23\n",
      "29\n",
      "31\n",
      "37\n",
      "41\n",
      "43\n",
      "47\n",
      "53\n",
      "59\n",
      "61\n",
      "67\n",
      "71\n"
     ]
    }
   ],
   "source": [
    "for i in range(20):\n",
    "    print(next(lst))\n",
    "        "
   ]
  },
  {
   "cell_type": "code",
   "execution_count": null,
   "id": "9e3b3681-00a1-4147-ad56-49065a20fef7",
   "metadata": {},
   "outputs": [],
   "source": []
  }
 ],
 "metadata": {
  "kernelspec": {
   "display_name": "Python 3 (ipykernel)",
   "language": "python",
   "name": "python3"
  },
  "language_info": {
   "codemirror_mode": {
    "name": "ipython",
    "version": 3
   },
   "file_extension": ".py",
   "mimetype": "text/x-python",
   "name": "python",
   "nbconvert_exporter": "python",
   "pygments_lexer": "ipython3",
   "version": "3.9.13"
  }
 },
 "nbformat": 4,
 "nbformat_minor": 5
}
