{
 "cells": [
  {
   "cell_type": "markdown",
   "id": "a1bbc721-66e5-4a76-b2ea-46bc50426e0b",
   "metadata": {},
   "source": [
    "## Multiprocessing"
   ]
  },
  {
   "cell_type": "markdown",
   "id": "7ace76b7-a5fd-47da-8a17-3083c9ca42df",
   "metadata": {},
   "source": [
    "### Q1. What is multiprocessing in python? Why is it useful?"
   ]
  },
  {
   "cell_type": "markdown",
   "id": "4ff0cf5a-4e18-4d3e-a6ec-c30d4703421e",
   "metadata": {},
   "source": [
    "Multiprocessing in Python refers to the ability of a program to use multiple processors or CPU cores to perform tasks in parallel. In other words, it allows you to execute multiple tasks simultaneously by dividing them into smaller subtasks and assigning them to different processors or cores.\n",
    "\n",
    "Multiprocessing is useful in Python because it can significantly speed up the execution time of CPU-bound tasks, such as heavy calculations, by utilizing the full processing power of your computer. It can also help you avoid the limitations of the Global Interpreter Lock (GIL) in Python, which prevents multiple threads from executing Python bytecode simultaneously in the same interpreter process.\n",
    "\n",
    "Python provides a multiprocessing module that makes it easy to create and manage processes in Python. You can use this module to start new processes, communicate between processes, and synchronize access to shared resources.\n",
    "\n",
    "Overall, multiprocessing in Python is a powerful tool that can help you improve the performance of your Python programs and take advantage of modern computer hardware."
   ]
  },
  {
   "cell_type": "markdown",
   "id": "bf3375d8-71d4-44e5-8197-66a51c8e30bf",
   "metadata": {},
   "source": [
    "### Q2. What are the differences between multiprocessing and multithreading?"
   ]
  },
  {
   "cell_type": "markdown",
   "id": "f5a2f75d-9830-4328-b263-c86298309da0",
   "metadata": {},
   "source": [
    "Multiprocessing and multithreading are both techniques used to achieve parallelism in software development, but they differ in several ways:\n",
    "\n",
    "- Processes vs. Threads: The main difference between multiprocessing and multithreading is that multiprocessing involves the execution of multiple processes in parallel, while multithreading involves the execution of multiple threads within a single process.\n",
    "\n",
    "- Memory: Each process has its own memory space, while all threads share the same memory space. This means that communication between processes requires special methods, such as inter-process communication (IPC), while communication between threads can be done through shared variables.\n",
    "\n",
    "- CPU and resource allocation: Each process can be allocated its own CPU core or processor, while threads share the same CPU. Therefore, multiprocessing can achieve better overall performance by fully utilizing all available hardware resources, while multithreading can lead to resource contention and may not fully utilize available hardware resources.\n",
    "\n",
    "- Isolation: Processes are isolated from each other, meaning that a problem in one process does not affect other processes. In contrast, threads share the same memory space and can interfere with each other, making debugging more difficult."
   ]
  },
  {
   "cell_type": "markdown",
   "id": "558d8f10-2ffc-4bed-923e-0ace60e92100",
   "metadata": {},
   "source": [
    "### Q3. Write a python code to create a process using the multiprocessing module."
   ]
  },
  {
   "cell_type": "code",
   "execution_count": 9,
   "id": "ed353ac6-f2e9-4d89-8af8-c18191db0c5b",
   "metadata": {},
   "outputs": [
    {
     "name": "stdout",
     "output_type": "stream",
     "text": [
      " The process has finished\n"
     ]
    }
   ],
   "source": [
    "# program using multiprocessing\n",
    "\n",
    "import multiprocessing\n",
    "\n",
    "def first_mult_proce():\n",
    "    print(\"I am inside my First multi process function\")\n",
    "    \n",
    "if __name__ == '__main__':\n",
    "    \n",
    "    process = multiprocessing.Process(target = first_mult_proce)\n",
    "    \n",
    "    process.start()\n",
    "    \n",
    "    process.join()\n",
    "    \n",
    "    print(\" The process has finished\")"
   ]
  },
  {
   "cell_type": "markdown",
   "id": "e8bd982b-6a8b-4dfc-865f-154feb5577ea",
   "metadata": {},
   "source": [
    "### Q4. What is a multiprocessing pool in python? Why is it used?"
   ]
  },
  {
   "cell_type": "markdown",
   "id": "b51f7885-9256-40d2-b567-66464d43cffe",
   "metadata": {},
   "source": [
    "A multiprocessing pool in Python is a collection of worker processes that can be used to execute tasks in parallel. The multiprocessing.Pool class provides a simple way to create and manage a pool of worker processes.\n",
    "\n",
    "The multiprocessing.Pool class provides a simple way to create a pool of worker processes. we can specify the number of processes to use in the pool, and then submit tasks to be executed by those processes."
   ]
  },
  {
   "cell_type": "markdown",
   "id": "257ee4b4-79f5-490c-b706-c81e3488671a",
   "metadata": {},
   "source": [
    "### Q5. How can we create a pool of worker processes in python using the multiprocessing module?"
   ]
  },
  {
   "cell_type": "code",
   "execution_count": null,
   "id": "b389341e-5cca-4a58-8259-31030f1e10a0",
   "metadata": {},
   "outputs": [],
   "source": [
    "# program using pool\n",
    "\n",
    "import multiprocessing\n",
    "\n",
    "def square(number):\n",
    "    return number ** 2\n",
    "\n",
    "if __name__ == '__main__':\n",
    "    # create a pool with 4 worker processes\n",
    "    with multiprocessing.Pool(processes=4) as pool:\n",
    "        # map the square function to the numbers 0 to 9\n",
    "        results = pool.map(square, range(10))\n",
    "        print(results)"
   ]
  },
  {
   "cell_type": "markdown",
   "id": "3ae3b889-f1db-4441-941a-32c98ba7a8c8",
   "metadata": {},
   "source": [
    "In this example, we define a square function that simply squares its input. We then create a multiprocessing.Pool object with 4 worker processes, and use the map method to apply the square function to the numbers 0 to 9. The map method divides the input data into chunks and distributes the work among the worker processes in the pool. The results of the function are collected and returned in a list.\n",
    "\n",
    "Multiprocessing pools are used to improve the performance of CPU-bound tasks by running them in parallel. By dividing the work among multiple processes, we can take advantage of multiple CPU cores and speed up the execution of our program. This are commonly used in data processing, scientific computing, and machine learning applications."
   ]
  },
  {
   "cell_type": "markdown",
   "id": "ac35d378-58f0-4e0d-a2b9-bc931afdadc4",
   "metadata": {
    "tags": []
   },
   "source": [
    "### Q6. Write a python program to create 4 processes, each process should print a different number using the multiprocessing module in python."
   ]
  },
  {
   "cell_type": "code",
   "execution_count": null,
   "id": "16ab9082-2da7-4434-8d5e-2838e2ee4cc6",
   "metadata": {},
   "outputs": [],
   "source": [
    "import multiprocessing\n",
    "\n",
    "def print_number(number):\n",
    "    print(f\"Process {multiprocessing.current_process().name}: {number}\")\n",
    "\n",
    "if __name__ == '__main__':\n",
    "    processes = []\n",
    "    for i in range(4):\n",
    "        process = multiprocessing.Process(target=print_number, args=(i,))\n",
    "        processes.append(process)\n",
    "        process.start()\n",
    "\n",
    "    for process in processes:\n",
    "        process.join()"
   ]
  },
  {
   "cell_type": "code",
   "execution_count": null,
   "id": "37f03ec2-ce59-494b-8045-245bb08adab8",
   "metadata": {},
   "outputs": [],
   "source": []
  }
 ],
 "metadata": {
  "kernelspec": {
   "display_name": "Python 3 (ipykernel)",
   "language": "python",
   "name": "python3"
  },
  "language_info": {
   "codemirror_mode": {
    "name": "ipython",
    "version": 3
   },
   "file_extension": ".py",
   "mimetype": "text/x-python",
   "name": "python",
   "nbconvert_exporter": "python",
   "pygments_lexer": "ipython3",
   "version": "3.9.13"
  }
 },
 "nbformat": 4,
 "nbformat_minor": 5
}
